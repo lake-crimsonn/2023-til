{
 "cells": [
  {
   "cell_type": "code",
   "execution_count": 6,
   "metadata": {},
   "outputs": [
    {
     "name": "stdout",
     "output_type": "stream",
     "text": [
      "Requirement already satisfied: scikit-learn in c:\\users\\soohb\\miniconda3\\envs\\py\\lib\\site-packages (1.2.2)\n",
      "Requirement already satisfied: numpy>=1.17.3 in c:\\users\\soohb\\miniconda3\\envs\\py\\lib\\site-packages (from scikit-learn) (1.24.3)\n",
      "Requirement already satisfied: scipy>=1.3.2 in c:\\users\\soohb\\miniconda3\\envs\\py\\lib\\site-packages (from scikit-learn) (1.10.1)\n",
      "Requirement already satisfied: joblib>=1.1.1 in c:\\users\\soohb\\miniconda3\\envs\\py\\lib\\site-packages (from scikit-learn) (1.2.0)\n",
      "Requirement already satisfied: threadpoolctl>=2.0.0 in c:\\users\\soohb\\miniconda3\\envs\\py\\lib\\site-packages (from scikit-learn) (3.1.0)\n",
      "Note: you may need to restart the kernel to use updated packages.\n"
     ]
    }
   ],
   "source": [
    "%pip install scikit-learn"
   ]
  },
  {
   "cell_type": "code",
   "execution_count": 7,
   "metadata": {},
   "outputs": [
    {
     "name": "stdout",
     "output_type": "stream",
     "text": [
      "Name: scikit-learn\n",
      "Version: 1.2.2\n",
      "Summary: A set of python modules for machine learning and data mining\n",
      "Home-page: http://scikit-learn.org\n",
      "Author: \n",
      "Author-email: \n",
      "License: new BSD\n",
      "Location: c:\\Users\\soohb\\miniconda3\\envs\\py\\Lib\\site-packages\n",
      "Requires: joblib, numpy, scipy, threadpoolctl\n",
      "Required-by: \n",
      "Note: you may need to restart the kernel to use updated packages.\n"
     ]
    }
   ],
   "source": [
    "%pip show scikit-learn"
   ]
  },
  {
   "cell_type": "code",
   "execution_count": 8,
   "metadata": {},
   "outputs": [
    {
     "name": "stdout",
     "output_type": "stream",
     "text": [
      "Requirement already satisfied: openpyxl in c:\\users\\soohb\\miniconda3\\envs\\py\\lib\\site-packages (3.1.2)\n",
      "Requirement already satisfied: et-xmlfile in c:\\users\\soohb\\miniconda3\\envs\\py\\lib\\site-packages (from openpyxl) (1.1.0)\n",
      "Note: you may need to restart the kernel to use updated packages.\n"
     ]
    }
   ],
   "source": [
    "%pip install openpyxl"
   ]
  },
  {
   "cell_type": "code",
   "execution_count": 9,
   "metadata": {},
   "outputs": [
    {
     "name": "stdout",
     "output_type": "stream",
     "text": [
      "      Father      Son\n",
      "0    165.100  151.892\n",
      "1    165.100  160.782\n",
      "2    167.132  159.512\n",
      "3    155.194  163.322\n",
      "4    160.020  163.068\n",
      "..       ...      ...\n",
      "750  186.182  172.466\n",
      "751  167.132  154.940\n",
      "752  181.102  173.482\n",
      "753  179.578  176.022\n",
      "754  178.562  170.180\n",
      "\n",
      "[755 rows x 2 columns]\n",
      "      Father      Son\n",
      "0    160.782  160.528\n",
      "1    166.116  162.814\n",
      "2    165.608  164.592\n",
      "3    169.672  166.370\n",
      "4    176.530  166.370\n",
      "..       ...      ...\n",
      "318  183.388  169.418\n",
      "319  160.528  149.352\n",
      "320  171.958  151.892\n",
      "321  170.180  179.832\n",
      "322  182.372  176.022\n",
      "\n",
      "[323 rows x 2 columns]\n"
     ]
    }
   ],
   "source": [
    "import pandas as pd\n",
    "from sklearn.linear_model import LinearRegression\n",
    "import numpy as np\n",
    "\n",
    "# 데이터 로드\n",
    "train_df = pd.read_excel('https://github.com/cranberryai/todak_todak_python/blob/master/machine_learning/regression/%E1%84%8B%E1%85%A1%E1%84%87%E1%85%A5%E1%84%8C%E1%85%B5%E1%84%8B%E1%85%A1%E1%84%83%E1%85%B3%E1%86%AF%E1%84%8F%E1%85%B5.xlsx?raw=true', sheet_name='train')\n",
    "test_df = pd.read_excel('https://github.com/cranberryai/todak_todak_python/blob/master/machine_learning/regression/%E1%84%8B%E1%85%A1%E1%84%87%E1%85%A5%E1%84%8C%E1%85%B5%E1%84%8B%E1%85%A1%E1%84%83%E1%85%B3%E1%86%AF%E1%84%8F%E1%85%B5.xlsx?raw=true', sheet_name='test')\n",
    "\n",
    "print(train_df)\n",
    "print(test_df)\n",
    "\n",
    "# Fahter : x, Son : y\n"
   ]
  },
  {
   "cell_type": "code",
   "execution_count": 10,
   "metadata": {},
   "outputs": [
    {
     "data": {
      "text/html": [
       "<div>\n",
       "<style scoped>\n",
       "    .dataframe tbody tr th:only-of-type {\n",
       "        vertical-align: middle;\n",
       "    }\n",
       "\n",
       "    .dataframe tbody tr th {\n",
       "        vertical-align: top;\n",
       "    }\n",
       "\n",
       "    .dataframe thead th {\n",
       "        text-align: right;\n",
       "    }\n",
       "</style>\n",
       "<table border=\"1\" class=\"dataframe\">\n",
       "  <thead>\n",
       "    <tr style=\"text-align: right;\">\n",
       "      <th></th>\n",
       "      <th>Father</th>\n",
       "    </tr>\n",
       "  </thead>\n",
       "  <tbody>\n",
       "    <tr>\n",
       "      <th>0</th>\n",
       "      <td>165.100</td>\n",
       "    </tr>\n",
       "    <tr>\n",
       "      <th>1</th>\n",
       "      <td>165.100</td>\n",
       "    </tr>\n",
       "    <tr>\n",
       "      <th>2</th>\n",
       "      <td>167.132</td>\n",
       "    </tr>\n",
       "    <tr>\n",
       "      <th>3</th>\n",
       "      <td>155.194</td>\n",
       "    </tr>\n",
       "    <tr>\n",
       "      <th>4</th>\n",
       "      <td>160.020</td>\n",
       "    </tr>\n",
       "  </tbody>\n",
       "</table>\n",
       "</div>"
      ],
      "text/plain": [
       "    Father\n",
       "0  165.100\n",
       "1  165.100\n",
       "2  167.132\n",
       "3  155.194\n",
       "4  160.020"
      ]
     },
     "execution_count": 10,
     "metadata": {},
     "output_type": "execute_result"
    }
   ],
   "source": [
    "# 데이터 전처리\n",
    "x_tr = train_df.drop(['Son'], axis=1) # Son칼럼을 드랍시켜 Son 이외에 다른 칼럼 저장\n",
    "x_te = test_df.drop(['Son'], axis=1) # axis=1 : col\n",
    "\n",
    "y_tr = train_df['Son']\n",
    "y_te = test_df['Son']\n",
    "\n",
    "# 정상적으로 잘 들어갔는지 확인\n",
    "x_tr.head()"
   ]
  },
  {
   "cell_type": "code",
   "execution_count": 11,
   "metadata": {},
   "outputs": [
    {
     "data": {
      "text/plain": [
       "(array([0.51820601]), 85.3083706214848)"
      ]
     },
     "execution_count": 11,
     "metadata": {},
     "output_type": "execute_result"
    }
   ],
   "source": [
    "# 넘파이화 시켜서 데이터 학습하기\n",
    "# y는 확인용이니까 넘파이화 하지 않음\n",
    "x_tr = x_tr.to_numpy()\n",
    "x_te = x_te.to_numpy()\n",
    "\n",
    "# 모델 학습\n",
    "model = LinearRegression() # 인스턴스 가져오기\n",
    "model.fit(x_tr, y_tr) # y = wx + b에서 w, b 알아내기\n",
    "model.coef_, model.intercept_ # w와 b\n",
    "\n",
    "# y.tr = mode.coef_ * x.tr + model.intercept_\n",
    "# y.tr에서 x.tr 뺀 값(에러)을 제곱하고 모두 더한 뒤 샘플 수로 나누면 MSE가 나온다.\n",
    "# MSE : mean square error 평균제곱오차\n",
    "# MSE 중 최소치가 w, b"
   ]
  },
  {
   "cell_type": "code",
   "execution_count": 12,
   "metadata": {},
   "outputs": [
    {
     "data": {
      "text/plain": [
       "0.2519977905846619"
      ]
     },
     "execution_count": 12,
     "metadata": {},
     "output_type": "execute_result"
    }
   ],
   "source": [
    "# 모델 검증\n",
    "model.score(x_te, y_te)\n",
    "\n",
    "# w, b값이 fit이 잘 되어서 스코어값이 좋다면 (1과 가깝다면)\n",
    "# 테스트 자료로 사용한다\n",
    "# 결과값과 y값 비교가 가능함으로\n",
    "# y값이 존재하지 않는 자료를 넣어서 확률을 확인할 수 있다"
   ]
  },
  {
   "cell_type": "code",
   "execution_count": 13,
   "metadata": {},
   "outputs": [
    {
     "name": "stdout",
     "output_type": "stream",
     "text": [
      "[170.46931036]\n"
     ]
    }
   ],
   "source": [
    "# 미래값 넣어서 확인\n",
    "y_predict = model.predict(np.array([[164.338]]))\n",
    "print(y_predict)\n",
    "\n"
   ]
  }
 ],
 "metadata": {
  "kernelspec": {
   "display_name": "py",
   "language": "python",
   "name": "python3"
  },
  "language_info": {
   "codemirror_mode": {
    "name": "ipython",
    "version": 3
   },
   "file_extension": ".py",
   "mimetype": "text/x-python",
   "name": "python",
   "nbconvert_exporter": "python",
   "pygments_lexer": "ipython3",
   "version": "3.11.3"
  },
  "orig_nbformat": 4
 },
 "nbformat": 4,
 "nbformat_minor": 2
}
