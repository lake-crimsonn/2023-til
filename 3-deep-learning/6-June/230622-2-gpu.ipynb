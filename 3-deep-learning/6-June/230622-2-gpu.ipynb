{
 "cells": [
  {
   "cell_type": "code",
   "execution_count": 1,
   "metadata": {},
   "outputs": [],
   "source": [
    "import tensorflow as tf\n",
    "model=tf.keras.models.load_model('c:/data/myMnist.h5')"
   ]
  },
  {
   "cell_type": "code",
   "execution_count": 2,
   "metadata": {},
   "outputs": [
    {
     "name": "stdout",
     "output_type": "stream",
     "text": [
      "Model: \"sequential_2\"\n",
      "_________________________________________________________________\n",
      " Layer (type)                Output Shape              Param #   \n",
      "=================================================================\n",
      " flatten_2 (Flatten)         (None, 784)               0         \n",
      "                                                                 \n",
      " dense_4 (Dense)             (None, 128)               100480    \n",
      "                                                                 \n",
      " dropout_2 (Dropout)         (None, 128)               0         \n",
      "                                                                 \n",
      " dense_5 (Dense)             (None, 10)                1290      \n",
      "                                                                 \n",
      "=================================================================\n",
      "Total params: 101,770\n",
      "Trainable params: 101,770\n",
      "Non-trainable params: 0\n",
      "_________________________________________________________________\n"
     ]
    }
   ],
   "source": [
    "model.summary()"
   ]
  },
  {
   "cell_type": "code",
   "execution_count": 4,
   "metadata": {},
   "outputs": [
    {
     "data": {
      "text/plain": [
       "[array([[ 0.02249797, -0.0484179 ,  0.01675863, ..., -0.03265446,\n",
       "         -0.07853235,  0.07599708],\n",
       "        [ 0.05367128,  0.00252809,  0.06221385, ...,  0.06862866,\n",
       "         -0.07830053, -0.07613295],\n",
       "        [ 0.04277079, -0.04324498,  0.0310903 , ..., -0.01304162,\n",
       "          0.00783361, -0.08034083],\n",
       "        ...,\n",
       "        [ 0.05549934, -0.02580532,  0.00166545, ..., -0.05413508,\n",
       "         -0.02099134,  0.05613273],\n",
       "        [-0.00169858,  0.0330419 , -0.05257177, ..., -0.0635823 ,\n",
       "          0.02289674,  0.06567272],\n",
       "        [ 0.05639998,  0.07602055, -0.02464927, ...,  0.05814172,\n",
       "         -0.04652892,  0.00615577]], dtype=float32),\n",
       " array([ 0.08456686, -0.40573567,  0.04098596, -0.6488366 ,  0.2474813 ,\n",
       "        -0.08434729, -0.4932501 ,  0.21757595, -0.548862  , -0.38558257,\n",
       "        -0.51797307,  0.02154749, -0.70691764, -0.42284223,  0.18678614,\n",
       "        -0.12490737, -0.47137195, -0.172964  , -0.6489845 ,  0.22151285,\n",
       "         0.04572319, -0.3710366 , -0.5311864 , -0.5407683 , -0.2652039 ,\n",
       "         0.3228637 , -0.28149056,  0.12378146, -0.30219907,  0.05672571,\n",
       "        -0.41541338, -0.42147866, -0.40395   ,  0.4625594 ,  0.29523876,\n",
       "        -0.04777162, -0.25559655, -0.28434864,  0.26721624, -0.1477903 ,\n",
       "        -0.05672437, -0.32674953,  0.0267811 , -0.35789233, -0.0533448 ,\n",
       "         0.06128305,  0.02601275, -0.02680252,  0.10861291, -0.31811407,\n",
       "        -0.06588269, -0.44460616,  0.08028105, -0.11330674, -0.2642195 ,\n",
       "        -0.38690782, -0.46998549,  0.10687245, -0.58494884,  0.16197735,\n",
       "         0.02678554, -0.12002063, -0.06362235, -0.40363643, -0.39224565,\n",
       "         0.13533291,  0.16508171, -0.04059705, -0.01815327, -0.13841514,\n",
       "        -0.22687712, -0.3254528 , -0.39810202, -0.03893518, -0.36777863,\n",
       "        -0.5648759 , -0.42792624, -0.28390297, -0.5176371 , -0.1804313 ,\n",
       "        -0.28967378, -0.21247585,  0.3531715 ,  0.28208822, -0.1538712 ,\n",
       "        -0.30969575,  0.12399624, -0.30169865, -0.41898006, -0.20167899,\n",
       "         0.31694624,  0.32412285, -0.4149342 , -0.20326869, -0.3059004 ,\n",
       "         0.05508132,  0.00167338, -0.40426227, -0.255991  , -0.47336665,\n",
       "        -0.05467745,  0.08628413,  0.08285895,  0.30070385, -0.168444  ,\n",
       "        -0.09704074, -0.1259523 , -0.05891654, -0.15393904, -0.22530949,\n",
       "        -0.27137974,  0.16003563, -0.31871516, -0.73395324, -0.375709  ,\n",
       "        -0.06182896,  0.434297  ,  0.14186154, -0.54783964,  0.05510276,\n",
       "         0.12563093,  0.06139852, -0.35569322,  0.05374958, -0.6296043 ,\n",
       "        -0.01218219, -0.02200893, -0.4313429 ], dtype=float32),\n",
       " array([[ 3.4990340e-01,  4.9979764e-04,  1.9401459e-01, ...,\n",
       "         -1.0982571e+00,  1.0427029e-01, -3.4971213e-01],\n",
       "        [-1.3881211e+00,  2.2536984e-02, -3.2183895e-01, ...,\n",
       "         -8.4270440e-02, -6.7451829e-01,  4.1274565e-01],\n",
       "        [-4.5585638e-01, -2.7207249e-01,  3.2371396e-01, ...,\n",
       "          3.2623193e-01, -3.1840613e-01, -2.9266635e-01],\n",
       "        ...,\n",
       "        [ 1.3498046e-01, -1.8077048e+00, -2.1746606e-01, ...,\n",
       "          3.9853075e-01, -1.2645547e+00,  2.4707279e-01],\n",
       "        [ 1.9095397e-01, -1.6755799e+00, -2.1548527e-01, ...,\n",
       "         -7.9300106e-02,  1.4168437e-01,  4.9404994e-02],\n",
       "        [-7.8671014e-01, -2.7887380e-01, -2.3963337e-01, ...,\n",
       "         -1.1866834e+00,  1.5676892e-01, -2.5316098e-01]], dtype=float32),\n",
       " array([ 0.25604472, -0.09483678, -0.47074255, -0.63451463,  0.18415576,\n",
       "        -0.65471524,  0.13837685, -0.81078357,  1.6486689 ,  0.27653942],\n",
       "       dtype=float32)]"
      ]
     },
     "execution_count": 4,
     "metadata": {},
     "output_type": "execute_result"
    }
   ],
   "source": [
    "model.get_weights()"
   ]
  },
  {
   "cell_type": "code",
   "execution_count": 18,
   "metadata": {},
   "outputs": [
    {
     "ename": "NameError",
     "evalue": "name 'model' is not defined",
     "output_type": "error",
     "traceback": [
      "\u001b[1;31m---------------------------------------------------------------------------\u001b[0m",
      "\u001b[1;31mNameError\u001b[0m                                 Traceback (most recent call last)",
      "Cell \u001b[1;32mIn[18], line 11\u001b[0m\n\u001b[0;32m      8\u001b[0m plt\u001b[39m.\u001b[39mfigure(figsize\u001b[39m=\u001b[39m(\u001b[39m1\u001b[39m,\u001b[39m1\u001b[39m))\n\u001b[0;32m      9\u001b[0m plt\u001b[39m.\u001b[39mimshow(img, cmap\u001b[39m=\u001b[39m\u001b[39m'\u001b[39m\u001b[39mgray\u001b[39m\u001b[39m'\u001b[39m) \n\u001b[1;32m---> 11\u001b[0m model\u001b[39m.\u001b[39mpredict(img)\n",
      "\u001b[1;31mNameError\u001b[0m: name 'model' is not defined"
     ]
    },
    {
     "data": {
      "image/png": "[encoded data removed]",
      "text/plain": [
       "<Figure size 100x100 with 1 Axes>"
      ]
     },
     "metadata": {},
     "output_type": "display_data"
    }
   ],
   "source": [
    "from PIL import Image\n",
    "import numpy as np\n",
    "import matplotlib.pyplot as plt\n",
    "img = Image.open('C:/data/mnist_img/num1.jpg').resize((28,28)).convert('L') # 흑백으로 불러오기\n",
    "img = 255 - np.array(img) # 색 반전시키고 어레이에 추가\n",
    "img = img/255 # 전에 /255로 나누었으니까\n",
    "np.shape(img) # 컨버트하지 않으면 (28,28,3)\n",
    "plt.figure(figsize=(1,1))\n",
    "plt.imshow(img, cmap='gray') \n",
    "\n",
    "model.predict(img) "
   ]
  },
  {
   "cell_type": "code",
   "execution_count": 14,
   "metadata": {},
   "outputs": [
    {
     "data": {
      "text/plain": [
       "(1.0, 0.0)"
      ]
     },
     "execution_count": 14,
     "metadata": {},
     "output_type": "execute_result"
    }
   ],
   "source": [
    "img.max(), img.min() # 스케일링이 됐는지 확인하기 # 스케일링을 안하면 컴퓨터 자료의 양을 넘어갈 수 있다"
   ]
  }
 ],
 "metadata": {
  "kernelspec": {
   "display_name": "gpu",
   "language": "python",
   "name": "python3"
  },
  "language_info": {
   "codemirror_mode": {
    "name": "ipython",
    "version": 3
   },
   "file_extension": ".py",
   "mimetype": "text/x-python",
   "name": "python",
   "nbconvert_exporter": "python",
   "pygments_lexer": "ipython3",
   "version": "3.9.16"
  },
  "orig_nbformat": 4
 },
 "nbformat": 4,
 "nbformat_minor": 2
}
