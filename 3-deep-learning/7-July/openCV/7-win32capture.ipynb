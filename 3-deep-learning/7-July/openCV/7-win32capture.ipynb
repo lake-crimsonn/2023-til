{
 "cells": [
  {
   "cell_type": "markdown",
   "metadata": {},
   "source": [
    "### 컴퓨터 스크린 화면을 가져오는 방법\n",
    "- 화면캡쳐 라이브러리를 이용하여 cv.imshow()로 루프를 돌려 보여주면 된다.\n",
    "- PIL의 ImageGrab이나 pyautogui의 screenshot()은 화면캡쳐 속도가 매우 느리다. 20 fps정도 나온다.\n",
    "- 윈도우 환경에서 스크린샷을 빠르게 따오는 속도는 윈도우API를 이용하는 방법이 최고다. 30 fps"
   ]
  },
  {
   "cell_type": "markdown",
   "metadata": {},
   "source": [
    "- [참고 유튜브](https://www.youtube.com/watch?v=WymCpVUPWQ4)"
   ]
  },
  {
   "cell_type": "code",
   "execution_count": 7,
   "metadata": {},
   "outputs": [
    {
     "ename": "TypeError",
     "evalue": "__init__() missing 1 required positional argument: 'window_name'",
     "output_type": "error",
     "traceback": [
      "\u001b[1;31m---------------------------------------------------------------------------\u001b[0m",
      "\u001b[1;31mTypeError\u001b[0m                                 Traceback (most recent call last)",
      "Cell \u001b[1;32mIn[7], line 8\u001b[0m\n\u001b[0;32m      5\u001b[0m \u001b[39mfrom\u001b[39;00m \u001b[39mwindowcapture\u001b[39;00m \u001b[39mimport\u001b[39;00m WindowCapture\n\u001b[0;32m      7\u001b[0m \u001b[39m# initialize the WindowCapture class\u001b[39;00m\n\u001b[1;32m----> 8\u001b[0m wincap \u001b[39m=\u001b[39m WindowCapture()\n\u001b[0;32m     10\u001b[0m loop_time \u001b[39m=\u001b[39m time()\n\u001b[0;32m     11\u001b[0m \u001b[39mwhile\u001b[39;00m(\u001b[39mTrue\u001b[39;00m):\n\u001b[0;32m     12\u001b[0m \n\u001b[0;32m     13\u001b[0m     \u001b[39m# get an updated image of the game\u001b[39;00m\n",
      "\u001b[1;31mTypeError\u001b[0m: __init__() missing 1 required positional argument: 'window_name'"
     ]
    }
   ],
   "source": [
    "import cv2 as cv\n",
    "import numpy as np\n",
    "import os\n",
    "from time import time\n",
    "from windowcapture import WindowCapture\n",
    "\n",
    "# initialize the WindowCapture class\n",
    "wincap = WindowCapture('Albion Online Client')\n",
    "\n",
    "loop_time = time()\n",
    "while(True):\n",
    "\n",
    "    # get an updated image of the game\n",
    "    screenshot = wincap.get_screenshot()\n",
    "\n",
    "    cv.imshow('Computer Vision', screenshot)\n",
    "\n",
    "    # debug the loop rate\n",
    "    print('FPS {}'.format(1 / (time() - loop_time)))\n",
    "    loop_time = time()\n",
    "\n",
    "    # press 'q' with the output window focused to exit.\n",
    "    # waits 1 ms every loop to process key presses\n",
    "    if cv.waitKey(1) == ord('q'):\n",
    "        cv.destroyAllWindows()\n",
    "        break\n",
    "\n",
    "print('Done.')"
   ]
  },
  {
   "cell_type": "code",
   "execution_count": 4,
   "metadata": {},
   "outputs": [],
   "source": [
    "import win32gui\n",
    "# 현재 실행중인 윈도우 핸들 목록 가져오기\n",
    "def get_window_hwnd_list():\n",
    "    def callback(_hwnd, _result: list):\n",
    "        title = win32gui.GetWindowText(_hwnd)\n",
    "        if win32gui.IsWindowEnabled(_hwnd) and win32gui.IsWindowVisible(_hwnd) and title is not None and len(title) > 0:\n",
    "            _result.append(_hwnd)\n",
    "        return True\n",
    "\n",
    "    result = []\n",
    "    win32gui.EnumWindows(callback, result)\n",
    "    return result"
   ]
  },
  {
   "cell_type": "code",
   "execution_count": 5,
   "metadata": {},
   "outputs": [
    {
     "name": "stdout",
     "output_type": "stream",
     "text": [
      "index : 0 / hwnd : 263988 / title : ● 7-videocapture.ipynb - TIL - Visual Studio Code\n",
      "index : 1 / hwnd : 1705826 / title : [Python] 파이썬 윈도우 핸들 포커스 방법, 실행중인 윈도우 핸들 가져오는 방법, 윈도우창 제어하는 방법 : 네이버 블로그 - Chrome\n",
      "index : 2 / hwnd : 1900932 / title : Fast Window Capture - OpenCV Object Detection in Games #4 - YouTube - Chrome\n",
      "index : 3 / hwnd : 525420 / title : 새 탭 - Chrome\n",
      "index : 4 / hwnd : 1641008 / title : tesseract\n",
      "index : 5 / hwnd : 1247202 / title : receipt - Google 검색 - Chrome\n",
      "index : 6 / hwnd : 592566 / title : 오픈CV [제한된 보기] - PowerPoint\n",
      "index : 7 / hwnd : 132600 / title : HTML과 XML의 차이 - Chrome\n",
      "index : 8 / hwnd : 132592 / title : 설정\n",
      "index : 9 / hwnd : 132272 / title : 설정\n",
      "index : 10 / hwnd : 66566 / title : NVIDIA GeForce Overlay\n",
      "index : 11 / hwnd : 131108 / title : Windows 입력 환경\n",
      "index : 12 / hwnd : 65884 / title : Program Manager\n"
     ]
    }
   ],
   "source": [
    "hwnd_list = get_window_hwnd_list()\n",
    "\n",
    "index = 0\n",
    "for hwnd in hwnd_list:\n",
    "    print(\"index : \" + str(index) + \" / hwnd : \" + str(hwnd) + \" / title : \" + win32gui.GetWindowText(hwnd))\n",
    "    index += 1"
   ]
  }
 ],
 "metadata": {
  "kernelspec": {
   "display_name": "gpu",
   "language": "python",
   "name": "python3"
  },
  "language_info": {
   "codemirror_mode": {
    "name": "ipython",
    "version": 3
   },
   "file_extension": ".py",
   "mimetype": "text/x-python",
   "name": "python",
   "nbconvert_exporter": "python",
   "pygments_lexer": "ipython3",
   "version": "3.9.16"
  },
  "orig_nbformat": 4
 },
 "nbformat": 4,
 "nbformat_minor": 2
}
