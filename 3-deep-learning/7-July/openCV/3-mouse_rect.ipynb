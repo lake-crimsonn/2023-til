{
 "cells": [
  {
   "cell_type": "code",
   "execution_count": 30,
   "metadata": {},
   "outputs": [
    {
     "name": "stdout",
     "output_type": "stream",
     "text": [
      "[[(265, 147), (533, 308)]]\n"
     ]
    },
    {
     "ename": "error",
     "evalue": "OpenCV(4.8.0) D:\\a\\opencv-python\\opencv-python\\opencv\\modules\\imgcodecs\\src\\loadsave.cpp:787: error: (-215:Assertion failed) !_img.empty() in function 'cv::imwrite'\n",
     "output_type": "error",
     "traceback": [
      "\u001b[1;31m---------------------------------------------------------------------------\u001b[0m",
      "\u001b[1;31merror\u001b[0m                                     Traceback (most recent call last)",
      "Cell \u001b[1;32mIn[30], line 26\u001b[0m, in \u001b[0;36mdrawR\u001b[1;34m(event, x, y, flags, params)\u001b[0m\n\u001b[0;32m     24\u001b[0m Number \u001b[39m=\u001b[39m \u001b[39mlen\u001b[39m(glob(\u001b[39m'\u001b[39m\u001b[39m./saveImg/*\u001b[39m\u001b[39m'\u001b[39m))\n\u001b[0;32m     25\u001b[0m \u001b[39m#cv2.imwrite('./saveImg/'+ target +'.png', roi)\u001b[39;00m\n\u001b[1;32m---> 26\u001b[0m cv2\u001b[39m.\u001b[39;49mimwrite(\u001b[39m'\u001b[39;49m\u001b[39m./saveImg/\u001b[39;49m\u001b[39m'\u001b[39;49m\u001b[39m+\u001b[39;49m \u001b[39mstr\u001b[39;49m(Number) \u001b[39m+\u001b[39;49m\u001b[39m'\u001b[39;49m\u001b[39m.png\u001b[39;49m\u001b[39m'\u001b[39;49m, roi)\n\u001b[0;32m     27\u001b[0m xy\u001b[39m.\u001b[39mappend([top_left_corner[\u001b[39m0\u001b[39m],bottom_right_corner[\u001b[39m0\u001b[39m]])\n\u001b[0;32m     28\u001b[0m \u001b[39mprint\u001b[39m(xy)\n",
      "\u001b[1;31merror\u001b[0m: OpenCV(4.8.0) D:\\a\\opencv-python\\opencv-python\\opencv\\modules\\imgcodecs\\src\\loadsave.cpp:787: error: (-215:Assertion failed) !_img.empty() in function 'cv::imwrite'\n"
     ]
    }
   ],
   "source": [
    "### 영역 지정해서 필터 적용하기\n",
    "\n",
    "import cv2\n",
    "from glob import glob\n",
    "top_left_corner, bottom_right_corner = [], []\n",
    "xy = []\n",
    "\n",
    "def drawR(event, x, y, flags, params):\n",
    "    global top_left_corner, bottom_right_corner\n",
    "    \n",
    "    if event == cv2.EVENT_LBUTTONDOWN:\n",
    "        top_left_corner = [(x,y)]\n",
    "        \n",
    "    elif event == cv2.EVENT_LBUTTONUP:\n",
    "        bottom_right_corner = [(x,y)]\n",
    "        \n",
    "        # 그리는 코드를 밑으로 내리면 스트로크가 없음\n",
    "        cv2.rectangle(img, top_left_corner[0], bottom_right_corner[0], (255,204,255),1)\n",
    "        cv2.imshow(\"new\",img)\n",
    "        \n",
    "        start = top_left_corner[0]\n",
    "        end = bottom_right_corner[0]\n",
    "        roi = img[start[1]:end[1], start[0]:end[0]]\n",
    "        #target = str(start[0])+'_'+str(end[0])\n",
    "        \n",
    "        Number = len(glob('./saveImg/*'))\n",
    "        #cv2.imwrite('./saveImg/'+ target +'.png', roi)\n",
    "        cv2.imwrite('./saveImg/'+ str(Number) +'.png', roi)\n",
    "        xy.append([top_left_corner[0],bottom_right_corner[0]])\n",
    "        print(xy)\n",
    "\n",
    "img=cv2.imread(\"./img02.jpg\")\n",
    "cv2.namedWindow(\"new\")\n",
    "cv2.setMouseCallback(\"new\", drawR)\n",
    "\n",
    "temp = img.copy()\n",
    "k = 0\n",
    "# Close the window when key q is pressed\n",
    "while k != 113:\n",
    "# Display the image\n",
    "    cv2.imshow(\"new\", img)\n",
    "    k = cv2.waitKey(0)\n",
    "    # If c is pressed, clear the window, using the dummy image\n",
    "    if (k == 99):\n",
    "        img = temp.copy()\n",
    "        cv2.imshow(\"new\", img)\n",
    "        \n",
    "cv2.destroyAllWindows()"
   ]
  },
  {
   "cell_type": "code",
   "execution_count": 52,
   "metadata": {},
   "outputs": [],
   "source": [
    "import pandas as pd\n",
    "from datetime import datetime\n",
    "timeNow = datetime.now().strftime('%m%d%H%M%S')\n",
    "xydf = pd.DataFrame(xy, columns=['top_left_corner','bottom_right_corner'])\n",
    "export_path = \"./csv/{}.csv\".format(int(timeNow))\n",
    "xydf.to_csv(export_path)"
   ]
  }
 ],
 "metadata": {
  "kernelspec": {
   "display_name": "gpu",
   "language": "python",
   "name": "python3"
  },
  "language_info": {
   "codemirror_mode": {
    "name": "ipython",
    "version": 3
   },
   "file_extension": ".py",
   "mimetype": "text/x-python",
   "name": "python",
   "nbconvert_exporter": "python",
   "pygments_lexer": "ipython3",
   "version": "3.9.16"
  },
  "orig_nbformat": 4
 },
 "nbformat": 4,
 "nbformat_minor": 2
}
