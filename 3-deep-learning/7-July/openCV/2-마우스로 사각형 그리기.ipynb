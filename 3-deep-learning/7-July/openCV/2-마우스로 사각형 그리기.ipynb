{
 "cells": [
  {
   "cell_type": "code",
   "execution_count": 23,
   "id": "6a4d5e98",
   "metadata": {},
   "outputs": [
    {
     "ename": "error",
     "evalue": "OpenCV(4.8.0) :-1: error: (-5:Bad argument) in function 'circle'\n> Overload resolution failed:\n>  - Argument 'radius' is required to be an integer\n>  - Argument 'radius' is required to be an integer\n",
     "output_type": "error",
     "traceback": [
      "\u001b[1;31m---------------------------------------------------------------------------\u001b[0m",
      "\u001b[1;31merror\u001b[0m                                     Traceback (most recent call last)",
      "Cell \u001b[1;32mIn[23], line 30\u001b[0m, in \u001b[0;36mdrawRectangle\u001b[1;34m(action, x, y, flags, parms)\u001b[0m\n\u001b[0;32m     27\u001b[0m cha \u001b[39m=\u001b[39m (bottom_right_corner[\u001b[39m0\u001b[39m][\u001b[39m0\u001b[39m]\u001b[39m-\u001b[39mtop_left_corner[\u001b[39m0\u001b[39m][\u001b[39m0\u001b[39m],bottom_right_corner[\u001b[39m0\u001b[39m][\u001b[39m1\u001b[39m]\u001b[39m-\u001b[39mtop_left_corner[\u001b[39m0\u001b[39m][\u001b[39m1\u001b[39m])\n\u001b[0;32m     28\u001b[0m \u001b[39m# Draw the rectangle\u001b[39;00m\n\u001b[0;32m     29\u001b[0m \u001b[39m# cv2.rectangle(image, top_left_corner[0], bottom_right_corner[0], (0, 255, 0),5)\u001b[39;00m\n\u001b[1;32m---> 30\u001b[0m cv2\u001b[39m.\u001b[39;49mcircle(image, top_left_corner[\u001b[39m0\u001b[39;49m],cha,(\u001b[39m0\u001b[39;49m, \u001b[39m255\u001b[39;49m, \u001b[39m0\u001b[39;49m),\u001b[39m5\u001b[39;49m)\n\u001b[0;32m     31\u001b[0m cv2\u001b[39m.\u001b[39mimshow(\u001b[39m\"\u001b[39m\u001b[39mWindow\u001b[39m\u001b[39m\"\u001b[39m, image)\n",
      "\u001b[1;31merror\u001b[0m: OpenCV(4.8.0) :-1: error: (-5:Bad argument) in function 'circle'\n> Overload resolution failed:\n>  - Argument 'radius' is required to be an integer\n>  - Argument 'radius' is required to be an integer\n"
     ]
    },
    {
     "ename": "error",
     "evalue": "OpenCV(4.8.0) :-1: error: (-5:Bad argument) in function 'circle'\n> Overload resolution failed:\n>  - Argument 'radius' is required to be an integer\n>  - Argument 'radius' is required to be an integer\n",
     "output_type": "error",
     "traceback": [
      "\u001b[1;31m---------------------------------------------------------------------------\u001b[0m",
      "\u001b[1;31merror\u001b[0m                                     Traceback (most recent call last)",
      "Cell \u001b[1;32mIn[23], line 30\u001b[0m, in \u001b[0;36mdrawRectangle\u001b[1;34m(action, x, y, flags, parms)\u001b[0m\n\u001b[0;32m     27\u001b[0m cha \u001b[39m=\u001b[39m (bottom_right_corner[\u001b[39m0\u001b[39m][\u001b[39m0\u001b[39m]\u001b[39m-\u001b[39mtop_left_corner[\u001b[39m0\u001b[39m][\u001b[39m0\u001b[39m],bottom_right_corner[\u001b[39m0\u001b[39m][\u001b[39m1\u001b[39m]\u001b[39m-\u001b[39mtop_left_corner[\u001b[39m0\u001b[39m][\u001b[39m1\u001b[39m])\n\u001b[0;32m     28\u001b[0m \u001b[39m# Draw the rectangle\u001b[39;00m\n\u001b[0;32m     29\u001b[0m \u001b[39m# cv2.rectangle(image, top_left_corner[0], bottom_right_corner[0], (0, 255, 0),5)\u001b[39;00m\n\u001b[1;32m---> 30\u001b[0m cv2\u001b[39m.\u001b[39;49mcircle(image, top_left_corner[\u001b[39m0\u001b[39;49m],cha,(\u001b[39m0\u001b[39;49m, \u001b[39m255\u001b[39;49m, \u001b[39m0\u001b[39;49m),\u001b[39m5\u001b[39;49m)\n\u001b[0;32m     31\u001b[0m cv2\u001b[39m.\u001b[39mimshow(\u001b[39m\"\u001b[39m\u001b[39mWindow\u001b[39m\u001b[39m\"\u001b[39m, image)\n",
      "\u001b[1;31merror\u001b[0m: OpenCV(4.8.0) :-1: error: (-5:Bad argument) in function 'circle'\n> Overload resolution failed:\n>  - Argument 'radius' is required to be an integer\n>  - Argument 'radius' is required to be an integer\n"
     ]
    },
    {
     "ename": "error",
     "evalue": "OpenCV(4.8.0) :-1: error: (-5:Bad argument) in function 'circle'\n> Overload resolution failed:\n>  - Argument 'radius' is required to be an integer\n>  - Argument 'radius' is required to be an integer\n",
     "output_type": "error",
     "traceback": [
      "\u001b[1;31m---------------------------------------------------------------------------\u001b[0m",
      "\u001b[1;31merror\u001b[0m                                     Traceback (most recent call last)",
      "Cell \u001b[1;32mIn[23], line 30\u001b[0m, in \u001b[0;36mdrawRectangle\u001b[1;34m(action, x, y, flags, parms)\u001b[0m\n\u001b[0;32m     27\u001b[0m cha \u001b[39m=\u001b[39m (bottom_right_corner[\u001b[39m0\u001b[39m][\u001b[39m0\u001b[39m]\u001b[39m-\u001b[39mtop_left_corner[\u001b[39m0\u001b[39m][\u001b[39m0\u001b[39m],bottom_right_corner[\u001b[39m0\u001b[39m][\u001b[39m1\u001b[39m]\u001b[39m-\u001b[39mtop_left_corner[\u001b[39m0\u001b[39m][\u001b[39m1\u001b[39m])\n\u001b[0;32m     28\u001b[0m \u001b[39m# Draw the rectangle\u001b[39;00m\n\u001b[0;32m     29\u001b[0m \u001b[39m# cv2.rectangle(image, top_left_corner[0], bottom_right_corner[0], (0, 255, 0),5)\u001b[39;00m\n\u001b[1;32m---> 30\u001b[0m cv2\u001b[39m.\u001b[39;49mcircle(image, top_left_corner[\u001b[39m0\u001b[39;49m],cha,(\u001b[39m0\u001b[39;49m, \u001b[39m255\u001b[39;49m, \u001b[39m0\u001b[39;49m),\u001b[39m5\u001b[39;49m)\n\u001b[0;32m     31\u001b[0m cv2\u001b[39m.\u001b[39mimshow(\u001b[39m\"\u001b[39m\u001b[39mWindow\u001b[39m\u001b[39m\"\u001b[39m, image)\n",
      "\u001b[1;31merror\u001b[0m: OpenCV(4.8.0) :-1: error: (-5:Bad argument) in function 'circle'\n> Overload resolution failed:\n>  - Argument 'radius' is required to be an integer\n>  - Argument 'radius' is required to be an integer\n"
     ]
    },
    {
     "ename": "error",
     "evalue": "OpenCV(4.8.0) :-1: error: (-5:Bad argument) in function 'circle'\n> Overload resolution failed:\n>  - Argument 'radius' is required to be an integer\n>  - Argument 'radius' is required to be an integer\n",
     "output_type": "error",
     "traceback": [
      "\u001b[1;31m---------------------------------------------------------------------------\u001b[0m",
      "\u001b[1;31merror\u001b[0m                                     Traceback (most recent call last)",
      "Cell \u001b[1;32mIn[23], line 30\u001b[0m, in \u001b[0;36mdrawRectangle\u001b[1;34m(action, x, y, flags, parms)\u001b[0m\n\u001b[0;32m     27\u001b[0m cha \u001b[39m=\u001b[39m (bottom_right_corner[\u001b[39m0\u001b[39m][\u001b[39m0\u001b[39m]\u001b[39m-\u001b[39mtop_left_corner[\u001b[39m0\u001b[39m][\u001b[39m0\u001b[39m],bottom_right_corner[\u001b[39m0\u001b[39m][\u001b[39m1\u001b[39m]\u001b[39m-\u001b[39mtop_left_corner[\u001b[39m0\u001b[39m][\u001b[39m1\u001b[39m])\n\u001b[0;32m     28\u001b[0m \u001b[39m# Draw the rectangle\u001b[39;00m\n\u001b[0;32m     29\u001b[0m \u001b[39m# cv2.rectangle(image, top_left_corner[0], bottom_right_corner[0], (0, 255, 0),5)\u001b[39;00m\n\u001b[1;32m---> 30\u001b[0m cv2\u001b[39m.\u001b[39;49mcircle(image, top_left_corner[\u001b[39m0\u001b[39;49m],cha,(\u001b[39m0\u001b[39;49m, \u001b[39m255\u001b[39;49m, \u001b[39m0\u001b[39;49m),\u001b[39m5\u001b[39;49m)\n\u001b[0;32m     31\u001b[0m cv2\u001b[39m.\u001b[39mimshow(\u001b[39m\"\u001b[39m\u001b[39mWindow\u001b[39m\u001b[39m\"\u001b[39m, image)\n",
      "\u001b[1;31merror\u001b[0m: OpenCV(4.8.0) :-1: error: (-5:Bad argument) in function 'circle'\n> Overload resolution failed:\n>  - Argument 'radius' is required to be an integer\n>  - Argument 'radius' is required to be an integer\n"
     ]
    },
    {
     "ename": "error",
     "evalue": "OpenCV(4.8.0) :-1: error: (-5:Bad argument) in function 'circle'\n> Overload resolution failed:\n>  - Argument 'radius' is required to be an integer\n>  - Argument 'radius' is required to be an integer\n",
     "output_type": "error",
     "traceback": [
      "\u001b[1;31m---------------------------------------------------------------------------\u001b[0m",
      "\u001b[1;31merror\u001b[0m                                     Traceback (most recent call last)",
      "Cell \u001b[1;32mIn[23], line 30\u001b[0m, in \u001b[0;36mdrawRectangle\u001b[1;34m(action, x, y, flags, parms)\u001b[0m\n\u001b[0;32m     27\u001b[0m cha \u001b[39m=\u001b[39m (bottom_right_corner[\u001b[39m0\u001b[39m][\u001b[39m0\u001b[39m]\u001b[39m-\u001b[39mtop_left_corner[\u001b[39m0\u001b[39m][\u001b[39m0\u001b[39m],bottom_right_corner[\u001b[39m0\u001b[39m][\u001b[39m1\u001b[39m]\u001b[39m-\u001b[39mtop_left_corner[\u001b[39m0\u001b[39m][\u001b[39m1\u001b[39m])\n\u001b[0;32m     28\u001b[0m \u001b[39m# Draw the rectangle\u001b[39;00m\n\u001b[0;32m     29\u001b[0m \u001b[39m# cv2.rectangle(image, top_left_corner[0], bottom_right_corner[0], (0, 255, 0),5)\u001b[39;00m\n\u001b[1;32m---> 30\u001b[0m cv2\u001b[39m.\u001b[39;49mcircle(image, top_left_corner[\u001b[39m0\u001b[39;49m],cha,(\u001b[39m0\u001b[39;49m, \u001b[39m255\u001b[39;49m, \u001b[39m0\u001b[39;49m),\u001b[39m5\u001b[39;49m)\n\u001b[0;32m     31\u001b[0m cv2\u001b[39m.\u001b[39mimshow(\u001b[39m\"\u001b[39m\u001b[39mWindow\u001b[39m\u001b[39m\"\u001b[39m, image)\n",
      "\u001b[1;31merror\u001b[0m: OpenCV(4.8.0) :-1: error: (-5:Bad argument) in function 'circle'\n> Overload resolution failed:\n>  - Argument 'radius' is required to be an integer\n>  - Argument 'radius' is required to be an integer\n"
     ]
    },
    {
     "ename": "error",
     "evalue": "OpenCV(4.8.0) :-1: error: (-5:Bad argument) in function 'circle'\n> Overload resolution failed:\n>  - Argument 'radius' is required to be an integer\n>  - Argument 'radius' is required to be an integer\n",
     "output_type": "error",
     "traceback": [
      "\u001b[1;31m---------------------------------------------------------------------------\u001b[0m",
      "\u001b[1;31merror\u001b[0m                                     Traceback (most recent call last)",
      "Cell \u001b[1;32mIn[23], line 30\u001b[0m, in \u001b[0;36mdrawRectangle\u001b[1;34m(action, x, y, flags, parms)\u001b[0m\n\u001b[0;32m     27\u001b[0m cha \u001b[39m=\u001b[39m (bottom_right_corner[\u001b[39m0\u001b[39m][\u001b[39m0\u001b[39m]\u001b[39m-\u001b[39mtop_left_corner[\u001b[39m0\u001b[39m][\u001b[39m0\u001b[39m],bottom_right_corner[\u001b[39m0\u001b[39m][\u001b[39m1\u001b[39m]\u001b[39m-\u001b[39mtop_left_corner[\u001b[39m0\u001b[39m][\u001b[39m1\u001b[39m])\n\u001b[0;32m     28\u001b[0m \u001b[39m# Draw the rectangle\u001b[39;00m\n\u001b[0;32m     29\u001b[0m \u001b[39m# cv2.rectangle(image, top_left_corner[0], bottom_right_corner[0], (0, 255, 0),5)\u001b[39;00m\n\u001b[1;32m---> 30\u001b[0m cv2\u001b[39m.\u001b[39;49mcircle(image, top_left_corner[\u001b[39m0\u001b[39;49m],cha,(\u001b[39m0\u001b[39;49m, \u001b[39m255\u001b[39;49m, \u001b[39m0\u001b[39;49m),\u001b[39m5\u001b[39;49m)\n\u001b[0;32m     31\u001b[0m cv2\u001b[39m.\u001b[39mimshow(\u001b[39m\"\u001b[39m\u001b[39mWindow\u001b[39m\u001b[39m\"\u001b[39m, image)\n",
      "\u001b[1;31merror\u001b[0m: OpenCV(4.8.0) :-1: error: (-5:Bad argument) in function 'circle'\n> Overload resolution failed:\n>  - Argument 'radius' is required to be an integer\n>  - Argument 'radius' is required to be an integer\n"
     ]
    },
    {
     "ename": "error",
     "evalue": "OpenCV(4.8.0) :-1: error: (-5:Bad argument) in function 'circle'\n> Overload resolution failed:\n>  - Argument 'radius' is required to be an integer\n>  - Argument 'radius' is required to be an integer\n",
     "output_type": "error",
     "traceback": [
      "\u001b[1;31m---------------------------------------------------------------------------\u001b[0m",
      "\u001b[1;31merror\u001b[0m                                     Traceback (most recent call last)",
      "Cell \u001b[1;32mIn[23], line 30\u001b[0m, in \u001b[0;36mdrawRectangle\u001b[1;34m(action, x, y, flags, parms)\u001b[0m\n\u001b[0;32m     27\u001b[0m cha \u001b[39m=\u001b[39m (bottom_right_corner[\u001b[39m0\u001b[39m][\u001b[39m0\u001b[39m]\u001b[39m-\u001b[39mtop_left_corner[\u001b[39m0\u001b[39m][\u001b[39m0\u001b[39m],bottom_right_corner[\u001b[39m0\u001b[39m][\u001b[39m1\u001b[39m]\u001b[39m-\u001b[39mtop_left_corner[\u001b[39m0\u001b[39m][\u001b[39m1\u001b[39m])\n\u001b[0;32m     28\u001b[0m \u001b[39m# Draw the rectangle\u001b[39;00m\n\u001b[0;32m     29\u001b[0m \u001b[39m# cv2.rectangle(image, top_left_corner[0], bottom_right_corner[0], (0, 255, 0),5)\u001b[39;00m\n\u001b[1;32m---> 30\u001b[0m cv2\u001b[39m.\u001b[39;49mcircle(image, top_left_corner[\u001b[39m0\u001b[39;49m],cha,(\u001b[39m0\u001b[39;49m, \u001b[39m255\u001b[39;49m, \u001b[39m0\u001b[39;49m),\u001b[39m5\u001b[39;49m)\n\u001b[0;32m     31\u001b[0m cv2\u001b[39m.\u001b[39mimshow(\u001b[39m\"\u001b[39m\u001b[39mWindow\u001b[39m\u001b[39m\"\u001b[39m, image)\n",
      "\u001b[1;31merror\u001b[0m: OpenCV(4.8.0) :-1: error: (-5:Bad argument) in function 'circle'\n> Overload resolution failed:\n>  - Argument 'radius' is required to be an integer\n>  - Argument 'radius' is required to be an integer\n"
     ]
    },
    {
     "ename": "error",
     "evalue": "OpenCV(4.8.0) :-1: error: (-5:Bad argument) in function 'circle'\n> Overload resolution failed:\n>  - Argument 'radius' is required to be an integer\n>  - Argument 'radius' is required to be an integer\n",
     "output_type": "error",
     "traceback": [
      "\u001b[1;31m---------------------------------------------------------------------------\u001b[0m",
      "\u001b[1;31merror\u001b[0m                                     Traceback (most recent call last)",
      "Cell \u001b[1;32mIn[23], line 30\u001b[0m, in \u001b[0;36mdrawRectangle\u001b[1;34m(action, x, y, flags, parms)\u001b[0m\n\u001b[0;32m     27\u001b[0m cha \u001b[39m=\u001b[39m (bottom_right_corner[\u001b[39m0\u001b[39m][\u001b[39m0\u001b[39m]\u001b[39m-\u001b[39mtop_left_corner[\u001b[39m0\u001b[39m][\u001b[39m0\u001b[39m],bottom_right_corner[\u001b[39m0\u001b[39m][\u001b[39m1\u001b[39m]\u001b[39m-\u001b[39mtop_left_corner[\u001b[39m0\u001b[39m][\u001b[39m1\u001b[39m])\n\u001b[0;32m     28\u001b[0m \u001b[39m# Draw the rectangle\u001b[39;00m\n\u001b[0;32m     29\u001b[0m \u001b[39m# cv2.rectangle(image, top_left_corner[0], bottom_right_corner[0], (0, 255, 0),5)\u001b[39;00m\n\u001b[1;32m---> 30\u001b[0m cv2\u001b[39m.\u001b[39;49mcircle(image, top_left_corner[\u001b[39m0\u001b[39;49m],cha,(\u001b[39m0\u001b[39;49m, \u001b[39m255\u001b[39;49m, \u001b[39m0\u001b[39;49m),\u001b[39m5\u001b[39;49m)\n\u001b[0;32m     31\u001b[0m cv2\u001b[39m.\u001b[39mimshow(\u001b[39m\"\u001b[39m\u001b[39mWindow\u001b[39m\u001b[39m\"\u001b[39m, image)\n",
      "\u001b[1;31merror\u001b[0m: OpenCV(4.8.0) :-1: error: (-5:Bad argument) in function 'circle'\n> Overload resolution failed:\n>  - Argument 'radius' is required to be an integer\n>  - Argument 'radius' is required to be an integer\n"
     ]
    },
    {
     "ename": "",
     "evalue": "",
     "output_type": "error",
     "traceback": [
      "\u001b[1;31mThe Kernel crashed while executing code in the the current cell or a previous cell. Please review the code in the cell(s) to identify a possible cause of the failure. Click <a href='https://aka.ms/vscodeJupyterKernelCrash'>here</a> for more info. View Jupyter <a href='command:jupyter.viewOutput'>log</a> for further details."
     ]
    }
   ],
   "source": [
    "####################################################\n",
    "# 1. 사각형 그리기\n",
    "####################################################\n",
    "\n",
    "import cv2\n",
    "\n",
    "# Lists to store the bounding box coordinates\n",
    "\n",
    "top_left_corner = []\n",
    "\n",
    "bottom_right_corner = []\n",
    "\n",
    "# function which will be called on mouse input\n",
    "\n",
    "\n",
    "def drawRectangle(action, x, y, flags, parms):\n",
    "\n",
    "\n",
    "    # Referencing global variables\n",
    "    global top_left_corner, bottom_right_corner\n",
    "    # Mark the top left corner when left mouse button is pressed\n",
    "    if action == cv2.EVENT_LBUTTONDOWN:\n",
    "        top_left_corner = [(x, y)]\n",
    "    # When left mouse button is released, mark bottom right corner\n",
    "    elif action == cv2.EVENT_LBUTTONUP:\n",
    "        bottom_right_corner = [(x, y)]\n",
    "        cha = (bottom_right_corner[0][0]-top_left_corner[0][0],bottom_right_corner[0][1]-top_left_corner[0][1])\n",
    "        # Draw the rectangle\n",
    "        # cv2.rectangle(image, top_left_corner[0], bottom_right_corner[0], (0, 255, 0),5)\n",
    "        cv2.circle(image, top_left_corner[0],cha,3,(0, 255, 0),5)\n",
    "        cv2.imshow(\"Window\", image)\n",
    "\n",
    "# Read Images\n",
    "image = cv2.imread(\"C:/data/cv2/img01.jpg\")\n",
    "# Make a temporary image, will be useful to clear the drawing\n",
    "\n",
    "temp = image.copy()\n",
    "# Create a named window\n",
    "cv2.namedWindow(\"Window\")\n",
    "# highgui function called when mouse events occur\n",
    "cv2.setMouseCallback(\"Window\", drawRectangle)\n",
    "\n",
    "k = 0\n",
    "# Close the window when key q is pressed\n",
    "while k != 113:\n",
    "# Display the image\n",
    "    cv2.imshow(\"Window\", image)\n",
    "    k = cv2.waitKey(0)\n",
    "    # If c is pressed, clear the window, using the dummy image\n",
    "    if (k == 99):\n",
    "        image = temp.copy()\n",
    "        cv2.imshow(\"Window\", image)\n",
    "\n",
    "# cv2.destroyAllWindows()"
   ]
  },
  {
   "cell_type": "code",
   "execution_count": 21,
   "id": "0c10a486",
   "metadata": {},
   "outputs": [
    {
     "data": {
      "text/plain": [
       "(-1, 0)"
      ]
     },
     "execution_count": 21,
     "metadata": {},
     "output_type": "execute_result"
    }
   ],
   "source": [
    "(bottom_right_corner[0][0]-top_left_corner[0][0],bottom_right_corner[0][1]-top_left_corner[0][1])"
   ]
  }
 ],
 "metadata": {
  "kernelspec": {
   "display_name": "Python 3 (ipykernel)",
   "language": "python",
   "name": "python3"
  },
  "language_info": {
   "codemirror_mode": {
    "name": "ipython",
    "version": 3
   },
   "file_extension": ".py",
   "mimetype": "text/x-python",
   "name": "python",
   "nbconvert_exporter": "python",
   "pygments_lexer": "ipython3",
   "version": "3.9.16"
  }
 },
 "nbformat": 4,
 "nbformat_minor": 5
}
