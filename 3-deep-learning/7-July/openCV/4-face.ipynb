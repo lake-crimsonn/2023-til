{
 "cells": [
  {
   "cell_type": "code",
   "execution_count": 1,
   "metadata": {},
   "outputs": [],
   "source": [
    "################################################33\n",
    "#### 얼굴인식 하는 xml자료 연동하기\n",
    "#### 이미지 자료 읽기\n",
    "###########################################\n",
    "import cv2\n",
    "\n",
    "face_cascade = cv2.CascadeClassifier(cv2.data.haarcascades + 'haarcascade_frontalface_default.xml') #정면인식하는 코드"
   ]
  },
  {
   "cell_type": "code",
   "execution_count": 2,
   "metadata": {},
   "outputs": [],
   "source": [
    "BASE_URL = 'C:/data/cascade_cv2/'"
   ]
  },
  {
   "cell_type": "code",
   "execution_count": 3,
   "metadata": {},
   "outputs": [
    {
     "data": {
      "text/plain": [
       "array([[452, 102,  58,  58],\n",
       "       [366, 122,  54,  54],\n",
       "       [272, 180,  52,  52],\n",
       "       [573, 122,  60,  60],\n",
       "       [130, 159,  55,  55]])"
      ]
     },
     "execution_count": 3,
     "metadata": {},
     "output_type": "execute_result"
    }
   ],
   "source": [
    "img = cv2.imread(BASE_URL+'open_cv_1.jpg')  # cv2는 기본으로 array로 들어옴\n",
    "#gray = cv2.cvtColor(img, cv2.COLOR_BGR2GRAY)   # gray모델은 필요에 따라 사용함. 여기서는 사용하지 않겠음.\n",
    "\n",
    "faces = face_cascade.detectMultiScale(img, 1.1, 5)\n",
    "faces   # 출력되는 값은 얼굴인식한 위치값에 대한 정보임"
   ]
  },
  {
   "cell_type": "code",
   "execution_count": 4,
   "metadata": {},
   "outputs": [],
   "source": [
    "cnt = 0\n",
    "for x,y,w,h in faces:\n",
    "    cv2.rectangle(img, (x-20, y-20), (x + w+20, y + h+20), (255, 0, 0), 2)  \n",
    "    cnt+=1\n",
    "    cv2.putText(img, str(cnt) , (x,y-30), cv2.FONT_HERSHEY_SIMPLEX, 1, (255,0,0), 2)\n",
    "    \n",
    "cv2.imshow(\"test\", img)   #  cv2.imshow('캡션명 사용자 마음임',출력할 이미지 변수명)\n",
    "cv2.waitKey()\n",
    "cv2.destroyAllWindows()"
   ]
  },
  {
   "cell_type": "code",
   "execution_count": 13,
   "metadata": {},
   "outputs": [],
   "source": [
    "# 여자0, 남자 1로 성별 구별하는 모델 (티처블머신러닝에서 작업함)\n",
    "\n",
    "from keras.models import load_model\n",
    "model = load_model(BASE_URL+'model4.h5')  \n",
    "\n",
    "#model.weights\n"
   ]
  },
  {
   "cell_type": "code",
   "execution_count": 11,
   "metadata": {},
   "outputs": [
    {
     "name": "stdout",
     "output_type": "stream",
     "text": [
      "1/1 [==============================] - 0s 20ms/step\n",
      "Female-2\n",
      "1/1 [==============================] - 0s 20ms/step\n",
      "Female-3\n",
      "1/1 [==============================] - 0s 19ms/step\n",
      "Male-4\n",
      "1/1 [==============================] - 0s 20ms/step\n",
      "Male-5\n",
      "1/1 [==============================] - 0s 20ms/step\n",
      "Female-6\n"
     ]
    }
   ],
   "source": [
    "import cv2\n",
    "import numpy as np\n",
    "from glob import glob\n",
    "\n",
    "class_name=['Female','Male']     \n",
    "face_cascade = cv2.CascadeClassifier(cv2.data.haarcascades + 'haarcascade_frontalface_default.xml')\n",
    "\n",
    "# 이미지 사이즈\n",
    "IMG_SIZE = 160\n",
    "\n",
    "# 이미지 불러오기\n",
    "img = cv2.imread(BASE_URL+'open_cv_1.jpg')\n",
    "\n",
    "# 얼굴 찾기\n",
    "faces = face_cascade.detectMultiScale(img, 1.1, 5)\n",
    "\n",
    "cnt=0\n",
    "for (x, y, w, h) in faces:\n",
    "    rect_arr = img[y-20:y + h+20, x-20:x + w+20]\n",
    "    \n",
    "    ### 모델에 넣기 위한 작업\n",
    "    resize_img = cv2.resize(rect_arr, (IMG_SIZE, IMG_SIZE))\n",
    "    imgArr=(resize_img/127.0)-1   # 티처블 코드에 있었음\n",
    "    prediction=imgArr.reshape(1,IMG_SIZE,IMG_SIZE,3) # 인공지능은  array 를 하나 확장한 tensor로 해야함. (224,224,3)을 1,224,224,3 으로 확장함\n",
    "    prediction = model.predict(prediction)\n",
    "    argmaxNumber=np.argmax(prediction)   # 출력결과가 0이면 0번째 위치값이 predict 출력값중에 0번째 위치값이 가장 크다는 뜻\n",
    "    printTxt=class_name[argmaxNumber]\n",
    "    cv2.putText(img, printTxt , (x-10,y-30), cv2.FONT_HERSHEY_SIMPLEX, 1, (255,0,0), 2)\n",
    "    \n",
    "    roi = rect_arr\n",
    "    Number = len(glob('./saveImg/*'))\n",
    "    newName = printTxt + \"-\"+ str(Number)\n",
    "    cv2.imwrite('./saveImg/'+  newName +'.png', roi)\n",
    "    \n",
    "    cv2.rectangle(img, (x-20, y-20), (x + w+20, y + h+20), (255, 0, 0), 2)\n",
    "    print(newName)\n",
    "    \n",
    "cv2.imshow(\"test\", img) #   cv2.imshow('캡션명 사용자 마음임',출력할 이미지 변수명)\n",
    "cv2.waitKey()\n",
    "cv2.destroyAllWindows()"
   ]
  },
  {
   "cell_type": "code",
   "execution_count": 21,
   "metadata": {},
   "outputs": [
    {
     "name": "stdout",
     "output_type": "stream",
     "text": [
      "1/1 [==============================] - 0s 22ms/step\n",
      "tf.Tensor([[0.01050253]], shape=(1, 1), dtype=float32)\n",
      "0\n",
      "Female-4\n",
      "1/1 [==============================] - 0s 27ms/step\n",
      "tf.Tensor([[0.29395527]], shape=(1, 1), dtype=float32)\n",
      "0\n",
      "Female-4\n",
      "1/1 [==============================] - 0s 24ms/step\n",
      "tf.Tensor([[0.05605894]], shape=(1, 1), dtype=float32)\n",
      "0\n",
      "Female-4\n",
      "1/1 [==============================] - 0s 24ms/step\n",
      "tf.Tensor([[0.00698124]], shape=(1, 1), dtype=float32)\n",
      "0\n",
      "Female-4\n",
      "1/1 [==============================] - 0s 21ms/step\n",
      "tf.Tensor([[0.43198135]], shape=(1, 1), dtype=float32)\n",
      "0\n",
      "Female-4\n",
      "1/1 [==============================] - 0s 24ms/step\n",
      "tf.Tensor([[0.7590141]], shape=(1, 1), dtype=float32)\n",
      "0\n",
      "Female-4\n",
      "1/1 [==============================] - 0s 24ms/step\n",
      "tf.Tensor([[0.00884872]], shape=(1, 1), dtype=float32)\n",
      "0\n",
      "Female-4\n",
      "1/1 [==============================] - 0s 21ms/step\n",
      "tf.Tensor([[0.02068004]], shape=(1, 1), dtype=float32)\n",
      "0\n",
      "Female-4\n"
     ]
    }
   ],
   "source": [
    "import cv2\n",
    "import numpy as np\n",
    "from glob import glob\n",
    "import tensorflow as tf\n",
    "\n",
    "class_name=['Female','Male']     \n",
    "face_cascade = cv2.CascadeClassifier(cv2.data.haarcascades + 'haarcascade_frontalface_default.xml')\n",
    "\n",
    "# 이미지 사이즈\n",
    "IMG_SIZE = 160\n",
    "\n",
    "# 이미지 불러오기\n",
    "img = cv2.imread(BASE_URL+'open_cv_2.jpg')\n",
    "\n",
    "# 얼굴 찾기\n",
    "faces = face_cascade.detectMultiScale(img, 1.1, 5)\n",
    "\n",
    "cnt=0\n",
    "for (x, y, w, h) in faces:\n",
    "    rect_arr = img[y-20:y + h+20, x-20:x + w+20]\n",
    "    \n",
    "    ### 모델에 넣기 위한 작업\n",
    "    resize_img = cv2.resize(rect_arr, (IMG_SIZE, IMG_SIZE))\n",
    "    imgArr=(resize_img) # 티처블 코드에 있었음\n",
    "    prediction=imgArr.reshape(1,IMG_SIZE,IMG_SIZE,3) # 인공지능은  array 를 하나 확장한 tensor로 해야함. (224,224,3)을 1,224,224,3 으로 확장함\n",
    "    prediction = model.predict(prediction)\n",
    "    \n",
    "    prediction = tf.nn.sigmoid(prediction)\n",
    "    argmaxNumber=np.argmax(prediction)   # 출력결과가 0이면 0번째 위치값이 predict 출력값중에 0번째 위치값이 가장 크다는 뜻\n",
    "    printTxt=class_name[argmaxNumber]\n",
    "    cv2.putText(img, printTxt , (x-10,y-30), cv2.FONT_HERSHEY_SIMPLEX, 1, (255,0,0), 2)\n",
    "    print(prediction)\n",
    "    print(argmaxNumber)\n",
    "    # roi = rect_arr\n",
    "    # Number = len(glob('./saveImg/*'))\n",
    "    # newName = printTxt + \"-\"+ str(Number)\n",
    "    # cv2.imwrite('./saveImg/'+  newName +'.png', roi)\n",
    "    \n",
    "    cv2.rectangle(img, (x-20, y-20), (x + w+20, y + h+20), (255, 0, 0), 2)\n",
    "    print(newName)\n",
    "    \n",
    "cv2.imshow(\"test\", img) #   cv2.imshow('캡션명 사용자 마음임',출력할 이미지 변수명)\n",
    "cv2.waitKey()\n",
    "cv2.destroyAllWindows()"
   ]
  },
  {
   "cell_type": "code",
   "execution_count": 12,
   "metadata": {},
   "outputs": [
    {
     "ename": "Error",
     "evalue": "Destination path './saveImg/Female\\Female-6.png' already exists",
     "output_type": "error",
     "traceback": [
      "\u001b[1;31m---------------------------------------------------------------------------\u001b[0m",
      "\u001b[1;31mError\u001b[0m                                     Traceback (most recent call last)",
      "Cell \u001b[1;32mIn[12], line 9\u001b[0m\n\u001b[0;32m      7\u001b[0m \u001b[39mif\u001b[39;00m \u001b[39mnot\u001b[39;00m os\u001b[39m.\u001b[39mpath\u001b[39m.\u001b[39mexists(SAVE_URL\u001b[39m+\u001b[39mclass_name[argmaxNumber]):\n\u001b[0;32m      8\u001b[0m     os\u001b[39m.\u001b[39mmkdir(newDir)\n\u001b[1;32m----> 9\u001b[0m shutil\u001b[39m.\u001b[39;49mmove(SAVE_URL\u001b[39m+\u001b[39;49mnewName\u001b[39m+\u001b[39;49m\u001b[39m'\u001b[39;49m\u001b[39m.png\u001b[39;49m\u001b[39m'\u001b[39;49m, newDir)\n",
      "File \u001b[1;32mc:\\Users\\user\\miniconda3\\envs\\gpu\\lib\\shutil.py:823\u001b[0m, in \u001b[0;36mmove\u001b[1;34m(src, dst, copy_function)\u001b[0m\n\u001b[0;32m    820\u001b[0m     real_dst \u001b[39m=\u001b[39m os\u001b[39m.\u001b[39mpath\u001b[39m.\u001b[39mjoin(dst, _basename(src))\n\u001b[0;32m    822\u001b[0m     \u001b[39mif\u001b[39;00m os\u001b[39m.\u001b[39mpath\u001b[39m.\u001b[39mexists(real_dst):\n\u001b[1;32m--> 823\u001b[0m         \u001b[39mraise\u001b[39;00m Error(\u001b[39m\"\u001b[39m\u001b[39mDestination path \u001b[39m\u001b[39m'\u001b[39m\u001b[39m%s\u001b[39;00m\u001b[39m'\u001b[39m\u001b[39m already exists\u001b[39m\u001b[39m\"\u001b[39m \u001b[39m%\u001b[39m real_dst)\n\u001b[0;32m    824\u001b[0m \u001b[39mtry\u001b[39;00m:\n\u001b[0;32m    825\u001b[0m     os\u001b[39m.\u001b[39mrename(src, real_dst)\n",
      "\u001b[1;31mError\u001b[0m: Destination path './saveImg/Female\\Female-6.png' already exists"
     ]
    }
   ],
   "source": [
    "import os\n",
    "import shutil\n",
    "\n",
    "\n",
    "SAVE_URL = './saveImg/'\n",
    "newDir = SAVE_URL+class_name[argmaxNumber]\n",
    "if not os.path.exists(SAVE_URL+class_name[argmaxNumber]):\n",
    "    os.mkdir(newDir)\n",
    "shutil.move(SAVE_URL+newName+'.png', newDir)"
   ]
  }
 ],
 "metadata": {
  "kernelspec": {
   "display_name": "gpu",
   "language": "python",
   "name": "python3"
  },
  "language_info": {
   "codemirror_mode": {
    "name": "ipython",
    "version": 3
   },
   "file_extension": ".py",
   "mimetype": "text/x-python",
   "name": "python",
   "nbconvert_exporter": "python",
   "pygments_lexer": "ipython3",
   "version": "3.9.16"
  },
  "orig_nbformat": 4
 },
 "nbformat": 4,
 "nbformat_minor": 2
}
