{
 "cells": [
  {
   "cell_type": "code",
   "execution_count": 6,
   "metadata": {},
   "outputs": [],
   "source": [
    "from PIL import Image\n",
    "import numpy as np\n",
    "from glob import glob\n",
    "xData=[]\n",
    "yData=[]\n",
    "folderList=glob('C:/data/npz')\n",
    "for folder in folderList:\n",
    "    fileList=glob(folder+'/*.txt')\n",
    "    for file in fileList:\n",
    "        # img=Image.open(file).convert('RGB').resize((24,24))\n",
    "        img=np.array(img)\n",
    "        xData.append(img)\n",
    "    yData.append(folder)\n",
    "        \n",
    "np.savez('./a.npz',x=xData,y=yData)"
   ]
  },
  {
   "cell_type": "code",
   "execution_count": 7,
   "metadata": {},
   "outputs": [
    {
     "data": {
      "text/plain": [
       "(2,)"
      ]
     },
     "execution_count": 7,
     "metadata": {},
     "output_type": "execute_result"
    }
   ],
   "source": [
    "a = np.load('./a.npz')\n",
    "np.shape(a)"
   ]
  }
 ],
 "metadata": {
  "kernelspec": {
   "display_name": "gpu",
   "language": "python",
   "name": "python3"
  },
  "language_info": {
   "codemirror_mode": {
    "name": "ipython",
    "version": 3
   },
   "file_extension": ".py",
   "mimetype": "text/x-python",
   "name": "python",
   "nbconvert_exporter": "python",
   "pygments_lexer": "ipython3",
   "version": "3.9.17"
  },
  "orig_nbformat": 4
 },
 "nbformat": 4,
 "nbformat_minor": 2
}
