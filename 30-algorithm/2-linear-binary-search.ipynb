{
 "cells": [
  {
   "cell_type": "markdown",
   "metadata": {},
   "source": [
    "## 순차검색, 선형검색\n",
    "- sequential, linear search\n",
    "- 맨 앞에서부터 끝까지 차례대로 찾아 나간다.\n",
    "- 리스트의 길이가 길면 비효율적이지만, 가장 구현이 쉽다."
   ]
  },
  {
   "cell_type": "code",
   "execution_count": 1,
   "metadata": {},
   "outputs": [],
   "source": [
    "import random\n",
    "data = list(range(1,100000))\n",
    "\n",
    "import time"
   ]
  },
  {
   "cell_type": "code",
   "execution_count": 30,
   "metadata": {},
   "outputs": [
    {
     "name": "stdout",
     "output_type": "stream",
     "text": [
      "499\n",
      "time:  0.0009970664978027344\n"
     ]
    }
   ],
   "source": [
    "start = time.time()\n",
    "find = 500\n",
    "for cnt,x in enumerate(data):\n",
    "    if find == x:\n",
    "        print(cnt)\n",
    "        break\n",
    "print(\"time: \",time.time()-start)"
   ]
  },
  {
   "cell_type": "code",
   "execution_count": 31,
   "metadata": {},
   "outputs": [
    {
     "name": "stdout",
     "output_type": "stream",
     "text": [
      "9998\n"
     ]
    },
    {
     "data": {
      "text/plain": [
       "9998"
      ]
     },
     "execution_count": 31,
     "metadata": {},
     "output_type": "execute_result"
    }
   ],
   "source": [
    "def search(data, find):\n",
    "    for cnt,x in enumerate(data):\n",
    "        if find == x:\n",
    "            print(cnt)\n",
    "            break\n",
    "    return cnt\n",
    "\n",
    "search(data,9999)"
   ]
  },
  {
   "cell_type": "code",
   "execution_count": 22,
   "metadata": {},
   "outputs": [
    {
     "name": "stdout",
     "output_type": "stream",
     "text": [
      "time:  0.0009992122650146484\n"
     ]
    }
   ],
   "source": [
    "start = time.time()\n",
    "find = 50000\n",
    "data.index(find)\n",
    "print(\"time: \",time.time()-start)"
   ]
  },
  {
   "cell_type": "markdown",
   "metadata": {},
   "source": [
    "## 이진탐색\n",
    "- 오름차순으로 정렬된 리스트에서 특정한 값의 위치를 찾는다.\n",
    "- 임의로 중간값을 선택하여, 찾고하 하는 값과 크고 작음을 비교하는 방식이다."
   ]
  },
  {
   "cell_type": "code",
   "execution_count": 50,
   "metadata": {},
   "outputs": [
    {
     "ename": "TypeError",
     "evalue": "list indices must be integers or slices, not float",
     "output_type": "error",
     "traceback": [
      "\u001b[1;31m---------------------------------------------------------------------------\u001b[0m",
      "\u001b[1;31mTypeError\u001b[0m                                 Traceback (most recent call last)",
      "Cell \u001b[1;32mIn[50], line 16\u001b[0m\n\u001b[0;32m     13\u001b[0m \t\u001b[39melse\u001b[39;00m:\n\u001b[0;32m     14\u001b[0m \t\t\u001b[39mreturn\u001b[39;00m mid\n\u001b[1;32m---> 16\u001b[0m binarySearch(data, find, \u001b[39mmin\u001b[39;49m, \u001b[39mmax\u001b[39;49m)\n",
      "Cell \u001b[1;32mIn[50], line 9\u001b[0m, in \u001b[0;36mbinarySearch\u001b[1;34m(array, value, low, high)\u001b[0m\n\u001b[0;32m      7\u001b[0m \t\u001b[39mreturn\u001b[39;00m \u001b[39mFalse\u001b[39;00m\n\u001b[0;32m      8\u001b[0m mid \u001b[39m=\u001b[39m (low\u001b[39m+\u001b[39mhigh) \u001b[39m/\u001b[39m \u001b[39m2\u001b[39m\n\u001b[1;32m----> 9\u001b[0m \u001b[39mif\u001b[39;00m array[mid] \u001b[39m>\u001b[39m value:\n\u001b[0;32m     10\u001b[0m \t\u001b[39mreturn\u001b[39;00m binarySearch(array, value, low, mid\u001b[39m-\u001b[39m\u001b[39m1\u001b[39m)\n\u001b[0;32m     11\u001b[0m \u001b[39melif\u001b[39;00m array[mid] \u001b[39m<\u001b[39m value:\n",
      "\u001b[1;31mTypeError\u001b[0m: list indices must be integers or slices, not float"
     ]
    }
   ],
   "source": [
    "data = list(range(1,12))\n",
    "find = 8\n",
    "min, max = 0, len(data)\n",
    "\n",
    "def binarySearch(array, value, low, high):\n",
    "\tif low > high:\n",
    "\t\treturn False\n",
    "\tmid = (low+high) / 2\n",
    "\tif array[mid] > value:\n",
    "\t\treturn binarySearch(array, value, low, mid-1)\n",
    "\telif array[mid] < value:\n",
    "\t\treturn binarySearch(array, value, mid+1, high)\n",
    "\telse:\n",
    "\t\treturn mid\n",
    "    \n",
    "binarySearch(data, find, min, max)"
   ]
  },
  {
   "cell_type": "code",
   "execution_count": 53,
   "metadata": {},
   "outputs": [
    {
     "name": "stdout",
     "output_type": "stream",
     "text": [
      "1\n",
      "100\n"
     ]
    }
   ],
   "source": [
    "# 최소값, 최대값 찾기\n",
    "\n",
    "# 최소값 찾기\n",
    "# 절대 나올 것 같지 않은 값을 최소값으로 초기화\n",
    "data = [3,9,1,2,8,100,5]\n",
    "min = 9999\n",
    "for i in range(len(data)):\n",
    "    if min > data[i]:\n",
    "        min = data[i]\n",
    "print(min)\n",
    "\n",
    "# 최대값 찾기\n",
    "max = -9999\n",
    "for i in range(len(data)):\n",
    "    if max < data[i]:\n",
    "        max = data[i]\n",
    "print(max)"
   ]
  },
  {
   "cell_type": "code",
   "execution_count": 54,
   "metadata": {},
   "outputs": [
    {
     "name": "stdout",
     "output_type": "stream",
     "text": [
      "4\n",
      "3\n",
      "5\n",
      "1\n",
      "2\n"
     ]
    },
    {
     "data": {
      "text/plain": [
       "[7, 5, 3, 2, 1]"
      ]
     },
     "execution_count": 54,
     "metadata": {},
     "output_type": "execute_result"
    }
   ],
   "source": [
    "# 정렬\n",
    "# 랭크를 정하고 랭크 순서에 맞게 리스트에 넣어줌\n",
    "\n",
    "data = [2,3,1,7,5]\n",
    "sortData = [0,0,0,0,0]\n",
    "rankList = []\n",
    "for i in range(len(data)):\n",
    "    rank = 1\n",
    "    for j in range(len(data)):\n",
    "        if data[i] < data[j]:\n",
    "            rank+=1\n",
    "    print(rank)\n",
    "    rankList.append(rank)\n",
    "    sortData[rank-1] = data[i]\n",
    "rankList\n",
    "sortData"
   ]
  }
 ],
 "metadata": {
  "kernelspec": {
   "display_name": "gpu2",
   "language": "python",
   "name": "python3"
  },
  "language_info": {
   "codemirror_mode": {
    "name": "ipython",
    "version": 3
   },
   "file_extension": ".py",
   "mimetype": "text/x-python",
   "name": "python",
   "nbconvert_exporter": "python",
   "pygments_lexer": "ipython3",
   "version": "3.9.17"
  },
  "orig_nbformat": 4
 },
 "nbformat": 4,
 "nbformat_minor": 2
}
