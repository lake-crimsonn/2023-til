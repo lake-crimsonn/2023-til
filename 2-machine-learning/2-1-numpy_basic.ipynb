{
 "cells": [
  {
   "attachments": {},
   "cell_type": "markdown",
   "metadata": {},
   "source": [
    "## numpy"
   ]
  },
  {
   "attachments": {},
   "cell_type": "markdown",
   "metadata": {},
   "source": [
    "#### numpy.arange"
   ]
  },
  {
   "cell_type": "code",
   "execution_count": 48,
   "metadata": {},
   "outputs": [
    {
     "name": "stdout",
     "output_type": "stream",
     "text": [
      "데이터 : [0 1 2 3 4 5 6 7 8 9]\n",
      "데이터 타입 : int32\n",
      "데이터 min, max : 0 ~ 9\n",
      "데이터 전체 갯수 : 10\n",
      "데이터 행열 갯수 : (10,)\n",
      "데이터 담는 변수의 타입 : <class 'numpy.ndarray'>\n",
      "데이터 타입 변경 : [0. 1. 2. 3. 4. 5. 6. 7. 8. 9.]\n",
      "정규분포 난수 5개 생성: [0.14404357 1.45427351 0.76103773 0.12167502 0.44386323]\n",
      "시드번호 0번 : [1.76405235 0.40015721 0.97873798 2.2408932  1.86755799]\n",
      "시드번호 1번 : [ 1.62434536 -0.61175641 -0.52817175 -1.07296862  0.86540763]\n",
      "시드번호 0번 : [1.76405235 0.40015721 0.97873798 2.2408932  1.86755799]\n",
      "시드번호 없음 : [-0.97727788  0.95008842 -0.15135721 -0.10321885  0.4105985 ]\n"
     ]
    }
   ],
   "source": [
    "# numpy : 다차원 배열 처리 모듈\n",
    "import numpy as np\n",
    "x = np.arange(10, dtype='int') # 0~23 데이터 순서대로 생성\n",
    "print('데이터 :', x)\n",
    "print('데이터 타입 :', x.dtype)\n",
    "print('데이터 min, max :',np.min(x), '~', np.max(x))\n",
    "print('데이터 전체 갯수 :', len(x))\n",
    "print('데이터 행열 갯수 :', np.shape(x))\n",
    "print('데이터 담는 변수의 타입 :', type(x))\n",
    "print('데이터 타입 변경 :', x.astype('float32'))\n",
    "\n",
    "x = np.random.normal(size=5)\n",
    "print('정규분포 난수 5개 생성:',x)\n",
    "\n",
    "np.random.seed(0)\n",
    "x = np.random.normal(size=5)\n",
    "print('시드번호 0번 :',x)\n",
    "\n",
    "np.random.seed(1)\n",
    "x = np.random.normal(size=5)\n",
    "print('시드번호 1번 :',x)\n",
    "\n",
    "np.random.seed(0)\n",
    "x = np.random.normal(size=5)\n",
    "print('시드번호 0번 :',x)\n",
    "\n",
    "x = np.random.normal(size=5) # 시드번호를 지정하지 않아서 아예 다른 난수 생성\n",
    "print('시드번호 없음 :',x) "
   ]
  },
  {
   "attachments": {},
   "cell_type": "markdown",
   "metadata": {},
   "source": [
    "#### np.zeros"
   ]
  },
  {
   "cell_type": "code",
   "execution_count": null,
   "metadata": {},
   "outputs": [
    {
     "name": "stdout",
     "output_type": "stream",
     "text": [
      "[0. 0. 0. 0. 0.]\n",
      "[0 0 0 0 0]\n",
      "[0 0 0 0 0]\n",
      "[0. 0. 0. 0. 0.]\n",
      "[False False False False False]\n",
      "[1. 1. 1. 1. 1.]\n",
      "<class 'numpy.ndarray'> float64\n",
      "[256. 256. 256. 256. 256.]\n",
      "[0 0 0 0 0]\n",
      "[1 1 1 1 1]\n",
      "[2 2 2 2 2]\n",
      "[False False False False False]\n",
      "[ True  True  True  True  True]\n"
     ]
    }
   ],
   "source": [
    "print(np.zeros(5))\n",
    "print(np.zeros(5, dtype='int'))\n",
    "print(np.zeros(5, dtype='uint8'))\n",
    "print(np.zeros(5, dtype='float32'))\n",
    "print(np.zeros(5, dtype='bool'))\n",
    "print(np.ones(5))\n",
    "\n",
    "x = np.zeros(5)\n",
    "print(type(x), x.dtype)\n",
    "x[...] = 256 # 어레이의 모든 요소에 \n",
    "print(x)\n",
    "\n",
    "### 중요\n",
    "# 이미지를 처리할 때는 부호가 필요하지 않아, 사용하는 데이터 타입은 uint8\n",
    "# 0 ~ 255 숫자만을 처리한다. 256일 경우 0, 257일 경우 1\n",
    "x = np.zeros(5, dtype='uint8')\n",
    "x[...] = 256; print(x)\n",
    "x[...] = 257; print(x)\n",
    "x[...] = 258; print(x)\n",
    "\n",
    "\n",
    "### 중요\n",
    "# 0 이외의 값은 모두 true\n",
    "x = np.zeros(5, dtype='bool')\n",
    "x[...] = 0; print(x)\n",
    "x[...] = 5; print(x)"
   ]
  },
  {
   "attachments": {},
   "cell_type": "markdown",
   "metadata": {},
   "source": [
    "#### numpy 형변환"
   ]
  },
  {
   "cell_type": "code",
   "execution_count": 82,
   "metadata": {},
   "outputs": [
    {
     "name": "stdout",
     "output_type": "stream",
     "text": [
      "[ 0  1  2  3  4  5  6  7  8  9 10 11 12 13 14 15 16 17 18 19 20 21 22 23] (24,) 24\n",
      "[[ 0  1  2  3  4  5]\n",
      " [ 6  7  8  9 10 11]\n",
      " [12 13 14 15 16 17]\n",
      " [18 19 20 21 22 23]] (4, 6)\n",
      "행의 갯수 : 4\n",
      "한 행의 열의 갯수 : 6\n",
      "[[0]\n",
      " [1]\n",
      " [2]\n",
      " [3]\n",
      " [4]\n",
      " [5]]\n",
      "----------------------------------------------------------------------------------------------------\n",
      "[[[ 0]\n",
      "  [ 1]\n",
      "  [ 2]\n",
      "  [ 3]\n",
      "  [ 4]\n",
      "  [ 5]]\n",
      "\n",
      " [[ 6]\n",
      "  [ 7]\n",
      "  [ 8]\n",
      "  [ 9]\n",
      "  [10]\n",
      "  [11]]\n",
      "\n",
      " [[12]\n",
      "  [13]\n",
      "  [14]\n",
      "  [15]\n",
      "  [16]\n",
      "  [17]]\n",
      "\n",
      " [[18]\n",
      "  [19]\n",
      "  [20]\n",
      "  [21]\n",
      "  [22]\n",
      "  [23]]]\n",
      "----------------------------------------------------------------------------------------------------\n",
      "[[[ 0  1  2]\n",
      "  [ 3  4  5]\n",
      "  [ 6  7  8]\n",
      "  [ 9 10 11]\n",
      "  [12 13 14]\n",
      "  [15 16 17]\n",
      "  [18 19 20]\n",
      "  [21 22 23]]]\n"
     ]
    }
   ],
   "source": [
    "x = np.arange(24) # 하나의 행으로 생성이 된다\n",
    "print(x,x.shape,len(x)) \n",
    "\n",
    "### 중요\n",
    "# shape은 행열의 모양새\n",
    "# len은 행의 갯수!\n",
    "# 열의 갯수는 첫번째 요소의 갯수!\n",
    "x1 = x.reshape((4,6))\n",
    "print(x1, x1.shape)\n",
    "print('행의 갯수 :', len(x1))\n",
    "print('한 행의 열의 갯수 :', len(x1[0]))\n",
    "\n",
    "# 4개 묶음 행6 열1\n",
    "x2 = x.reshape(4,6,1)\n",
    "print(x2[0])\n",
    "print('-'*100)\n",
    "print(x2)\n",
    "\n",
    "# 자동 맞춤\n",
    "print(x.reshape(1,-1,3))"
   ]
  },
  {
   "cell_type": "code",
   "execution_count": 94,
   "metadata": {},
   "outputs": [
    {
     "name": "stdout",
     "output_type": "stream",
     "text": [
      "[[[0. 0. 0.]\n",
      "  [0. 0. 0.]\n",
      "  [0. 0. 0.]\n",
      "  [0. 0. 0.]\n",
      "  [0. 0. 0.]\n",
      "  [0. 0. 0.]\n",
      "  [0. 0. 0.]\n",
      "  [0. 0. 0.]]\n",
      "\n",
      " [[0. 0. 0.]\n",
      "  [0. 0. 0.]\n",
      "  [0. 0. 0.]\n",
      "  [0. 0. 0.]\n",
      "  [0. 0. 0.]\n",
      "  [0. 0. 0.]\n",
      "  [0. 0. 0.]\n",
      "  [0. 0. 0.]]]\n",
      "----------------------------------------------------------------------------------------------------\n",
      "[[0. 0. 0. 0. 0. 0. 0. 0.]\n",
      " [0. 0. 0. 0. 0. 0. 0. 0.]]\n",
      "----------------------------------------------------------------------------------------------------\n",
      "[0. 0. 0. 0. 0. 0. 0. 0. 0. 0. 0. 0. 0. 0. 0. 0. 0. 0. 0. 0. 0. 0. 0. 0.\n",
      " 0. 0. 0. 0. 0. 0. 0. 0. 0. 0. 0. 0. 0. 0. 0. 0. 0. 0. 0. 0. 0. 0. 0. 0.\n",
      " 0. 0. 0. 0. 0. 0. 0. 0. 0. 0. 0. 0. 0. 0. 0. 0. 0. 0. 0. 0. 0. 0. 0. 0.\n",
      " 0. 0. 0. 0. 0. 0. 0. 0. 0. 0. 0. 0. 0. 0. 0. 0. 0. 0. 0. 0. 0. 0. 0. 0.\n",
      " 0. 0. 0. 0. 0. 0. 0. 0. 0. 0. 0. 0. 0. 0. 0. 0. 0. 0. 0. 0. 0. 0. 0. 0.\n",
      " 0. 0. 0. 0. 0. 0. 0. 0. 0. 0. 0. 0. 0. 0. 0. 0. 0. 0. 0. 0. 0. 0. 0. 0.\n",
      " 0. 0. 0. 0. 0. 0. 0. 0. 0. 0. 0. 0. 0. 0. 0. 0. 0. 0. 0. 0. 0. 0. 0. 0.\n",
      " 0. 0. 0. 0. 0. 0. 0. 0. 0. 0. 0. 0. 0. 0. 0. 0. 0. 0. 0. 0. 0. 0. 0. 0.]\n",
      "----------------------------------------------------------------------------------------------------\n",
      "[0. 0. 0. 0. 0. 0. 0. 0. 0. 0. 0. 0. 0. 0. 0. 0. 0. 0. 0. 0. 0. 0. 0. 0.\n",
      " 0. 0. 0. 0. 0. 0. 0. 0. 0. 0. 0. 0. 0. 0. 0. 0. 0. 0. 0. 0. 0. 0. 0. 0.\n",
      " 0. 0. 0. 0. 0. 0. 0. 0. 0. 0. 0. 0. 0. 0. 0. 0. 0. 0. 0. 0. 0. 0. 0. 0.\n",
      " 0. 0. 0. 0. 0. 0. 0. 0. 0. 0. 0. 0. 0. 0. 0. 0. 0. 0. 0. 0. 0. 0. 0. 0.\n",
      " 0. 0. 0. 0. 0. 0. 0. 0. 0. 0. 0. 0. 0. 0. 0. 0. 0. 0. 0. 0. 0. 0. 0. 0.\n",
      " 0. 0. 0. 0. 0. 0. 0. 0. 0. 0. 0. 0. 0. 0. 0. 0. 0. 0. 0. 0. 0. 0. 0. 0.\n",
      " 0. 0. 0. 0. 0. 0. 0. 0. 0. 0. 0. 0. 0. 0. 0. 0. 0. 0. 0. 0. 0. 0. 0. 0.\n",
      " 0. 0. 0. 0. 0. 0. 0. 0. 0. 0. 0. 0. 0. 0. 0. 0. 0. 0. 0. 0. 0. 0. 0. 0.]\n"
     ]
    }
   ],
   "source": [
    "# 차원 변경\n",
    "img = np.zeros((8,8,3))\n",
    "# 처음 2개만 출력\n",
    "print(img[:2])\n",
    "print('-'*100)\n",
    "# 2차원 변형\n",
    "print(img.reshape(24,-1)[:2])\n",
    "print('-'*100)\n",
    "# 1차원 변형\n",
    "print(img.reshape(-1))\n",
    "# 1차원 다른 명령어 flatten\n",
    "print(img.flatten())"
   ]
  },
  {
   "attachments": {},
   "cell_type": "markdown",
   "metadata": {},
   "source": [
    "#### 이미지 어레이를 텐서 자료형으로 확장"
   ]
  },
  {
   "cell_type": "code",
   "execution_count": 133,
   "metadata": {},
   "outputs": [
    {
     "name": "stdout",
     "output_type": "stream",
     "text": [
      "[[1, 1, 1, 1, 1, [1, 1, 1]], [1, 1, 1, 1, 1, [1, 1, 1]]]\n",
      "[[1 1 1 1 1 list([1, 1, 1])]\n",
      " [1 1 1 1 1 list([1, 1, 1])]] (2, 6)\n",
      "(1, 8, 8, 3)\n",
      "(8, 8, 3, 1)\n",
      "(1, 8, 8, 3)\n",
      "[[[0. 0. 0.]\n",
      "  [0. 0. 0.]\n",
      "  [0. 0. 0.]\n",
      "  [0. 0. 0.]\n",
      "  [0. 0. 0.]\n",
      "  [0. 0. 0.]\n",
      "  [0. 0. 0.]\n",
      "  [0. 0. 0.]]\n",
      "\n",
      " [[0. 0. 0.]\n",
      "  [0. 0. 0.]\n",
      "  [0. 0. 0.]\n",
      "  [0. 0. 0.]\n",
      "  [0. 0. 0.]\n",
      "  [0. 0. 0.]\n",
      "  [0. 0. 0.]\n",
      "  [0. 0. 0.]]\n",
      "\n",
      " [[0. 0. 0.]\n",
      "  [0. 0. 0.]\n",
      "  [0. 0. 0.]\n",
      "  [0. 0. 0.]\n",
      "  [0. 0. 0.]\n",
      "  [0. 0. 0.]\n",
      "  [0. 0. 0.]\n",
      "  [0. 0. 0.]]\n",
      "\n",
      " [[0. 0. 0.]\n",
      "  [0. 0. 0.]\n",
      "  [0. 0. 0.]\n",
      "  [0. 0. 0.]\n",
      "  [0. 0. 0.]\n",
      "  [0. 0. 0.]\n",
      "  [0. 0. 0.]\n",
      "  [0. 0. 0.]]\n",
      "\n",
      " [[0. 0. 0.]\n",
      "  [0. 0. 0.]\n",
      "  [0. 0. 0.]\n",
      "  [0. 0. 0.]\n",
      "  [0. 0. 0.]\n",
      "  [0. 0. 0.]\n",
      "  [0. 0. 0.]\n",
      "  [0. 0. 0.]]\n",
      "\n",
      " [[0. 0. 0.]\n",
      "  [0. 0. 0.]\n",
      "  [0. 0. 0.]\n",
      "  [0. 0. 0.]\n",
      "  [0. 0. 0.]\n",
      "  [0. 0. 0.]\n",
      "  [0. 0. 0.]\n",
      "  [0. 0. 0.]]\n",
      "\n",
      " [[0. 0. 0.]\n",
      "  [0. 0. 0.]\n",
      "  [0. 0. 0.]\n",
      "  [0. 0. 0.]\n",
      "  [0. 0. 0.]\n",
      "  [0. 0. 0.]\n",
      "  [0. 0. 0.]\n",
      "  [0. 0. 0.]]\n",
      "\n",
      " [[0. 0. 0.]\n",
      "  [0. 0. 0.]\n",
      "  [0. 0. 0.]\n",
      "  [0. 0. 0.]\n",
      "  [0. 0. 0.]\n",
      "  [0. 0. 0.]\n",
      "  [0. 0. 0.]\n",
      "  [0. 0. 0.]]]\n"
     ]
    },
    {
     "name": "stderr",
     "output_type": "stream",
     "text": [
      "c:\\Users\\user\\miniconda3\\envs\\py\\Lib\\site-packages\\numpy\\core\\fromnumeric.py:43: VisibleDeprecationWarning: Creating an ndarray from ragged nested sequences (which is a list-or-tuple of lists-or-tuples-or ndarrays with different lengths or shapes) is deprecated. If you meant to do this, you must specify 'dtype=object' when creating the ndarray.\n",
      "  result = getattr(asarray(obj), method)(*args, **kwds)\n",
      "C:\\Users\\user\\AppData\\Local\\Temp\\ipykernel_17312\\4228391732.py:15: VisibleDeprecationWarning: Creating an ndarray from ragged nested sequences (which is a list-or-tuple of lists-or-tuples-or ndarrays with different lengths or shapes) is deprecated. If you meant to do this, you must specify 'dtype=object' when creating the ndarray.\n",
      "  img2 = np.array(img2)\n"
     ]
    }
   ],
   "source": [
    "# 이미지를 인공지능으로 학습을 하기 위해서는 reshape을 반드시 사용해야 한다\n",
    "# 이미지가 8,8,3 (행,열,채널) 이라면 1,8,8,3(갯수,행,열,채널)으로 변경해야한다\n",
    "# reshape과 비슷한 기능으로 expen_dims, np.newaxis가 있다\n",
    "\n",
    "# reshape\n",
    "img = np.zeros((8,8,3))\n",
    "tmp = img.reshape(1,8,8,3) #갯수 행 열 채널\n",
    "\n",
    "# 어레이가 아닐 때 reshape\n",
    "img2 = [[1,1,1,1,1,[1,1,1]],[1,1,1,1,1,[1,1,1]]]\n",
    "np.reshape(img2, (2,2,3,-1))\n",
    "print(img2)\n",
    "\n",
    "# 어레이로 만들어 놓고 reshape\n",
    "img2 = np.array(img2)\n",
    "np.shape(img2)\n",
    "img2.reshape(2,2,3,-1)\n",
    "print(img2, img2.shape)\n",
    "\n",
    "# np.newaxis\n",
    "img = np.zeros((8,8,3))\n",
    "tmp = img[np.newaxis,...]\n",
    "print(tmp.shape)\n",
    "tmp = img[..., np.newaxis]\n",
    "print(tmp.shape)\n",
    "\n",
    "# np.expand_dims\n",
    "img = np.zeros((8,8,3))\n",
    "tmp = np.expand_dims(img, axis=0)\n",
    "print(tmp.shape)"
   ]
  },
  {
   "attachments": {},
   "cell_type": "markdown",
   "metadata": {},
   "source": [
    "#### numpy 브로드캐스트"
   ]
  },
  {
   "cell_type": "code",
   "execution_count": 136,
   "metadata": {},
   "outputs": [
    {
     "name": "stdout",
     "output_type": "stream",
     "text": [
      "[5 6 7]\n",
      "[5 6 7]\n"
     ]
    },
    {
     "ename": "ValueError",
     "evalue": "operands could not be broadcast together with shapes (3,) (2,) ",
     "output_type": "error",
     "traceback": [
      "\u001b[1;31m---------------------------------------------------------------------------\u001b[0m",
      "\u001b[1;31mValueError\u001b[0m                                Traceback (most recent call last)",
      "Cell \u001b[1;32mIn[136], line 7\u001b[0m\n\u001b[0;32m      5\u001b[0m \u001b[39m# 브로드캐스트를 이용하면 된다.\u001b[39;00m\n\u001b[0;32m      6\u001b[0m \u001b[39mprint\u001b[39m(a \u001b[39m+\u001b[39m \u001b[39m4\u001b[39m)\n\u001b[1;32m----> 7\u001b[0m \u001b[39mprint\u001b[39m(a \u001b[39m+\u001b[39m [\u001b[39m4\u001b[39m,\u001b[39m4\u001b[39m])\n",
      "\u001b[1;31mValueError\u001b[0m: operands could not be broadcast together with shapes (3,) (2,) "
     ]
    }
   ],
   "source": [
    "# 행열의 덧샘, 뺼샘은 피연산자의 갯수가 서로 같아야 한다.\n",
    "# 3개의 원소가 있는 행열에는 3개의 원소가 있어야 한다.\n",
    "a = np.array([1,2,3])\n",
    "print(a + [4,4,4])\n",
    "\n",
    "# 브로드캐스트를 이용하면 된다.\n",
    "print(a + 4)\n",
    "print(a + [4,4]) # 이건 행열이 안맞아서 불가능"
   ]
  },
  {
   "attachments": {},
   "cell_type": "markdown",
   "metadata": {},
   "source": [
    "#### 이미지 자료와 브로드캐스트"
   ]
  },
  {
   "cell_type": "code",
   "execution_count": 151,
   "metadata": {},
   "outputs": [
    {
     "name": "stdout",
     "output_type": "stream",
     "text": [
      "[[0 0 0]\n",
      " [0 0 0]\n",
      " [0 0 0]\n",
      " [0 0 0]\n",
      " [0 0 0]\n",
      " [0 0 0]\n",
      " [0 0 0]\n",
      " [0 0 0]]\n",
      "[[255   0   0]\n",
      " [255   0   0]\n",
      " [255   0   0]\n",
      " [255   0   0]\n",
      " [255   0   0]\n",
      " [255   0   0]\n",
      " [255   0   0]\n",
      " [255   0   0]]\n"
     ]
    },
    {
     "data": {
      "text/plain": [
       "<matplotlib.image.AxesImage at 0x1fad5d31050>"
      ]
     },
     "execution_count": 151,
     "metadata": {},
     "output_type": "execute_result"
    },
    {
     "data": {
      "image/png": "[encoded data removed]",
      "text/plain": [
       "<Figure size 640x480 with 4 Axes>"
      ]
     },
     "metadata": {},
     "output_type": "display_data"
    }
   ],
   "source": [
    "import matplotlib.pyplot as plt\n",
    "\n",
    "array = np.zeros((8,8,3), dtype=np.uint8) # 디폴트로 플로트\n",
    "print(array[0])\n",
    "plt.subplot(1,4,1)\n",
    "plt.imshow(array)\n",
    "\n",
    "# 검정색(0,0,0)을 빨간색으로 변경\n",
    "array[:,:,0] = 255\n",
    "plt.subplot(1,4,2)\n",
    "plt.imshow(array)\n",
    "print(array[0])\n",
    "\n",
    "#초록색으로 변경\n",
    "array[:,:,0] = 0\n",
    "array[:,:,1] = 255\n",
    "plt.subplot(1,4,3)\n",
    "plt.imshow(array)\n",
    "\n",
    "#파란색으로 변경\n",
    "array[:,:,1] = 0\n",
    "array[:,:,2] = 255\n",
    "plt.subplot(1,4,4)\n",
    "plt.imshow(array)\n"
   ]
  },
  {
   "cell_type": "code",
   "execution_count": 158,
   "metadata": {},
   "outputs": [
    {
     "data": {
      "text/plain": [
       "<matplotlib.image.AxesImage at 0x1fad6481c10>"
      ]
     },
     "execution_count": 158,
     "metadata": {},
     "output_type": "execute_result"
    },
    {
     "data": {
      "image/png": "[encoded data removed]",
      "text/plain": [
       "<Figure size 640x480 with 1 Axes>"
      ]
     },
     "metadata": {},
     "output_type": "display_data"
    }
   ],
   "source": [
    "# 행열 위치에 따라 다르게 색상 지정\n",
    "\n",
    "img2 = np.zeros((8,8,3), dtype=np.uint8)\n",
    "img2[:1,:,0] = 255\n",
    "img2[:,:1,1] = 255\n",
    "img2[:,-1:,2] = 255\n",
    "img2[-1:,:,:] = 255\n",
    "plt.subplot(1,2,1)\n",
    "plt.imshow(img2)"
   ]
  },
  {
   "attachments": {},
   "cell_type": "markdown",
   "metadata": {},
   "source": [
    "#### 정규화\n",
    "- 정규화는 다루는 데이터의 크기들을 균일하게 만드는 방법이다.\n",
    "- 모델은 데이터의 크기의 오차가 크면 데이터를 이상하게 해석할 수 있다.\n",
    "- 모든 데이터가 같은 정도의 스케일(중요도)로 반영되도록 해주는 것이 정규화의목적이다.\n",
    "- 종류는 최소최대정규화와 z점수정규화가 있다.\n",
    "- [참고사이트](https://mole-starseeker.tistory.com/31)\n",
    "\n",
    "- **주의**<br>\n",
    "이미지를 어떻게 정규화했는지 알 수 있는 방법이 없다.<br>\n",
    "모든 이미지는 같은 정규화 과정을 거쳐야 한다.<br>\n",
    "보톤 -1 ~ 1, 0 ~ 1과 같은 값으면 정규화하는 것을 추천한다<br>\n",
    "\n"
   ]
  },
  {
   "cell_type": "code",
   "execution_count": 177,
   "metadata": {},
   "outputs": [
    {
     "name": "stderr",
     "output_type": "stream",
     "text": [
      "Clipping input data to the valid range for imshow with RGB data ([0..1] for floats or [0..255] for integers).\n",
      "Clipping input data to the valid range for imshow with RGB data ([0..1] for floats or [0..255] for integers).\n"
     ]
    },
    {
     "name": "stdout",
     "output_type": "stream",
     "text": [
      "img : 0 255 (4, 2, 3)\n",
      "img/255 : 0.0 1.0 (4, 2, 3)\n",
      "img/127 : 0.0 2.0078740157480315 (4, 2, 3)\n",
      "img/127-1 : -1.0 1.0078740157480315 (4, 2, 3)\n"
     ]
    },
    {
     "data": {
      "image/png": "[encoded data removed]",
      "text/plain": [
       "<Figure size 640x480 with 4 Axes>"
      ]
     },
     "metadata": {},
     "output_type": "display_data"
    }
   ],
   "source": [
    "img3 = [[255,0,0],[0,255,0],[0,0,255],[255,255,0],[255,0,255],[0,255,0],[255,0,0],[0,255,255]]\n",
    "img3 = np.reshape(img3, (4,2,3))\n",
    "plt.subplot(221)\n",
    "plt.imshow(img3)\n",
    "plt.title('img')\n",
    "\n",
    "#255\n",
    "plt.subplot(222)\n",
    "img3_1 = img3/255\n",
    "plt.imshow(img3_1)\n",
    "plt.title('img/255')\n",
    "\n",
    "#127\n",
    "plt.subplot(223)\n",
    "img3_2 = img3/127\n",
    "plt.imshow(img3_2)\n",
    "plt.title('img/127')\n",
    "\n",
    "#127-1\n",
    "plt.subplot(224)\n",
    "img3_3 = (img3/127)-1\n",
    "plt.imshow(img3_3)\n",
    "plt.title('img/127-1')\n",
    "plt.tight_layout()\n",
    "\n",
    "print('img :',np.min(img3),np.max(img3),np.shape(img3))\n",
    "print('img/255 :',np.min(img3_1),np.max(img3_1),np.shape(img3_1)) # 0~1\n",
    "print('img/127 :',np.min(img3_2),np.max(img3_2),np.shape(img3_2)) # 0~2\n",
    "print('img/127-1 :',np.min(img3_3),np.max(img3_3),np.shape(img3_3)) #-1~1\n",
    "\n"
   ]
  },
  {
   "attachments": {},
   "cell_type": "markdown",
   "metadata": {},
   "source": [
    "#### 이미지 여러개 보기"
   ]
  },
  {
   "cell_type": "code",
   "execution_count": 183,
   "metadata": {},
   "outputs": [
    {
     "data": {
      "text/plain": [
       "<matplotlib.image.AxesImage at 0x1fad7defb50>"
      ]
     },
     "execution_count": 183,
     "metadata": {},
     "output_type": "execute_result"
    },
    {
     "data": {
      "image/png": "[encoded data removed]",
      "text/plain": [
       "<Figure size 640x480 with 2 Axes>"
      ]
     },
     "metadata": {},
     "output_type": "display_data"
    }
   ],
   "source": [
    " # vstack이나 hstack은 1개의 인자만 받아서 한 셋으로 묶어준다\n",
    "img4 = np.zeros((8,8,3))\n",
    "img5 = np.ones((8,8,3))\n",
    "plt.subplot(1,2,1)\n",
    "plt.imshow(np.vstack((img4,img5)))\n",
    "plt.subplot(1,2,2)\n",
    "plt.imshow(np.hstack((img4,img5)))"
   ]
  }
 ],
 "metadata": {
  "kernelspec": {
   "display_name": "py",
   "language": "python",
   "name": "python3"
  },
  "language_info": {
   "codemirror_mode": {
    "name": "ipython",
    "version": 3
   },
   "file_extension": ".py",
   "mimetype": "text/x-python",
   "name": "python",
   "nbconvert_exporter": "python",
   "pygments_lexer": "ipython3",
   "version": "3.11.3"
  },
  "orig_nbformat": 4
 },
 "nbformat": 4,
 "nbformat_minor": 2
}
