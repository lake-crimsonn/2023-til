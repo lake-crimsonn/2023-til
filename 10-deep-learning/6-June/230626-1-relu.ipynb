{
 "cells": [
  {
   "cell_type": "code",
   "execution_count": 1,
   "metadata": {},
   "outputs": [],
   "source": [
    "import numpy as np\n",
    "import tensorflow as tf # tf.keras.layers\n",
    "from tensorflow import keras # keras.layers\n",
    "from tensorflow.keras import layers # layers"
   ]
  },
  {
   "attachments": {},
   "cell_type": "markdown",
   "metadata": {},
   "source": [
    "### 단항분석"
   ]
  },
  {
   "cell_type": "code",
   "execution_count": 35,
   "metadata": {},
   "outputs": [
    {
     "data": {
      "text/plain": [
       "<matplotlib.legend.Legend at 0x1f7c9901610>"
      ]
     },
     "execution_count": 35,
     "metadata": {},
     "output_type": "execute_result"
    },
    {
     "data": {
      "image/png": "[encoded data removed]",
      "text/plain": [
       "<Figure size 640x480 with 2 Axes>"
      ]
     },
     "metadata": {},
     "output_type": "display_data"
    }
   ],
   "source": [
    "x = np.array([1,2,3,4,5,6])\n",
    "y = np.array([10,20,30,40,50,60])\n",
    "\n",
    "tf.random.set_seed(0)\n",
    "\n",
    "# (2,)\n",
    "# x = np.array([[1,2],[3,4],[5,6]])\n",
    "'''\n",
    "    지역 만족도\n",
    "    1   2\n",
    "    3   4\n",
    "    5   6\n",
    "'''\n",
    "\n",
    "# (1,) dense의 가장 상단으로 입력되는 x 변수의 갯수(독립변수, 특징값 갯수)\n",
    "input_layer = tf.keras.layers.InputLayer(input_shape=(1,)) # layers.InputLayer() 가능\n",
    "output_layer = tf.keras.layers.Dense(units=1) # activation이 없으면 wx+b로 동작(선형회귀)\n",
    "\n",
    "# 순차처리구조 (함수처리 가능)\n",
    "model = keras.Sequential([\n",
    " input_layer,\n",
    " output_layer\n",
    "])\n",
    "\n",
    "# model.fit 할 때, 오차역전파하는 방법론 (최적화 함수 -> optimizer)\n",
    "# model.fit 할 때, 구축된 모델에서 계산된 값(yhat), 실제 y값과 비교하는 공식(loss: 오차)\n",
    "# model.fit 할 때, 화면에 출력될 사항 선택(metric)\n",
    "model.compile(loss='mse', metrics=['acc']) # 모델 번역(오차 계산, 지표는 정확도)\n",
    "hist = model.fit(x, y, epochs=50, verbose=0) # 중간의 weight 값을 알 수 없기에 세이브를 해야 함\n",
    "list(hist.history) # metrics에 'acc'을 추가 했음\n",
    "\n",
    "import matplotlib.pyplot as plt\n",
    "\n",
    "plt.subplot(1,2,1)\n",
    "plt.plot(hist.history['loss'], label='loss')\n",
    "plt.legend(loc='upper right')\n",
    "\n",
    "plt.subplot(1,2,2)\n",
    "plt.plot(hist.history['acc'], 'r', label='acc')\n",
    "plt.legend(loc='upper right')\n"
   ]
  },
  {
   "cell_type": "code",
   "execution_count": 17,
   "metadata": {},
   "outputs": [
    {
     "name": "stdout",
     "output_type": "stream",
     "text": [
      "WARNING:tensorflow:5 out of the last 7 calls to <function Model.make_predict_function.<locals>.predict_function at 0x000001F7BF7D4670> triggered tf.function retracing. Tracing is expensive and the excessive number of tracings could be due to (1) creating @tf.function repeatedly in a loop, (2) passing tensors with different shapes, (3) passing Python objects instead of tensors. For (1), please define your @tf.function outside of the loop. For (2), @tf.function has reduce_retracing=True option that can avoid unnecessary retracing. For (3), please refer to https://www.tensorflow.org/guide/function#controlling_retracing and https://www.tensorflow.org/api_docs/python/tf/function for  more details.\n",
      "1/1 [==============================] - 0s 31ms/step\n"
     ]
    },
    {
     "data": {
      "text/plain": [
       "array([[-0.7393924],\n",
       "       [-1.5378581],\n",
       "       [-2.3363237],\n",
       "       [-3.1347895],\n",
       "       [-3.9332552],\n",
       "       [-4.7317204]], dtype=float32)"
      ]
     },
     "execution_count": 17,
     "metadata": {},
     "output_type": "execute_result"
    }
   ],
   "source": [
    "model.predict(x)"
   ]
  },
  {
   "cell_type": "code",
   "execution_count": 18,
   "metadata": {},
   "outputs": [
    {
     "data": {
      "text/plain": [
       "[array([[-0.79846567]], dtype=float32), array([0.05907325], dtype=float32)]"
      ]
     },
     "execution_count": 18,
     "metadata": {},
     "output_type": "execute_result"
    }
   ],
   "source": [
    "# model.summary()\n",
    "# 사이킷런은 w, b가 고정\n",
    "model.get_weights() # w, b"
   ]
  },
  {
   "cell_type": "code",
   "execution_count": null,
   "metadata": {},
   "outputs": [],
   "source": [
    "import numpy as np\n",
    "import tensorflow as tf # tf.keras.layers\n",
    "from tensorflow import keras # keras.layers\n",
    "from tensorflow.keras import layers # layers"
   ]
  },
  {
   "cell_type": "code",
   "execution_count": 38,
   "metadata": {},
   "outputs": [
    {
     "name": "stdout",
     "output_type": "stream",
     "text": [
      "1/1 [==============================] - 0s 252ms/step - loss: 1519.3765 - accuracy: 0.0000e+00\n",
      "<keras.callbacks.History object at 0x000001F7C9934880>\n",
      "1/1 [==============================] - 0s 43ms/step\n",
      "[[ 0.00073443]\n",
      " [-0.00580785]\n",
      " [-0.01235014]\n",
      " [-0.01889242]\n",
      " [-0.02543471]\n",
      " [-0.031977  ]]\n",
      "1/1 [==============================] - 0s 64ms/step - loss: 1518.1422 - accuracy: 0.0000e+00\n",
      "[1518.1422119140625, 0.0]\n"
     ]
    }
   ],
   "source": [
    "x = np.array([1,2,3,4,5,6])\n",
    "y = np.array([10,20,30,40,50,60])\n",
    "tf.random.set_seed(1234)  \n",
    "\n",
    "input_layer = tf.keras.layers.InputLayer(input_shape=(1,))\n",
    "hidden_layer1 = tf.keras.layers.Dense(units=4, activation='relu')\n",
    "hidden_layer2 = tf.keras.layers.Dense(units=2, activation='relu')\n",
    "output_layer= tf.keras.layers.Dense(units=1)  \n",
    "# activation이 없으면 활성화함수 wx+b가 되어있는 것임.\n",
    "model = keras.Sequential([\n",
    "    input_layer,\n",
    "    hidden_layer1,\n",
    "    hidden_layer2,\n",
    "    output_layer\n",
    "])\n",
    "\n",
    "model.compile(#optimizer='adam',\n",
    "              loss='mse',\n",
    "              metrics=['accuracy'])\n",
    "print(model.fit(x, y))\n",
    "print(model.predict(x))\n",
    "print(model.evaluate(x,y))\n"
   ]
  },
  {
   "cell_type": "code",
   "execution_count": 41,
   "metadata": {},
   "outputs": [
    {
     "data": {
      "text/plain": [
       "[array([[-0.28764218, -0.35261613, -0.97262526,  0.5678445 ]],\n",
       "       dtype=float32),\n",
       " array([ 0.        ,  0.        ,  0.        , -0.00316228], dtype=float32),\n",
       " array([[-0.6635401 ,  0.77674556],\n",
       "        [ 0.7169466 , -0.8954325 ],\n",
       "        [-0.27586365, -0.3388183 ],\n",
       "        [-0.37374473,  0.00893413]], dtype=float32),\n",
       " array([ 0.        , -0.00316228], dtype=float32),\n",
       " array([[-0.7793279],\n",
       "        [-1.289579 ]], dtype=float32),\n",
       " array([0.00316228], dtype=float32)]"
      ]
     },
     "execution_count": 41,
     "metadata": {},
     "output_type": "execute_result"
    }
   ],
   "source": [
    "model.get_weights()"
   ]
  },
  {
   "cell_type": "code",
   "execution_count": 40,
   "metadata": {},
   "outputs": [
    {
     "data": {
      "text/plain": [
       "<tf.Tensor: shape=(6, 4), dtype=float32, numpy=\n",
       "array([[0.        , 0.        , 0.        , 0.56468225],\n",
       "       [0.        , 0.        , 0.        , 1.1325268 ],\n",
       "       [0.        , 0.        , 0.        , 1.7003713 ],\n",
       "       [0.        , 0.        , 0.        , 2.2682157 ],\n",
       "       [0.        , 0.        , 0.        , 2.83606   ],\n",
       "       [0.        , 0.        , 0.        , 3.4039047 ]], dtype=float32)>"
      ]
     },
     "execution_count": 40,
     "metadata": {},
     "output_type": "execute_result"
    }
   ],
   "source": [
    "intermdiate_layer_model = tf.keras.Model(inputs=model.input, outputs=model.layers[0].output)\n",
    "intermdiate_layer_model(x)"
   ]
  },
  {
   "cell_type": "code",
   "execution_count": 50,
   "metadata": {},
   "outputs": [
    {
     "data": {
      "text/html": [
       "<div>\n",
       "<style scoped>\n",
       "    .dataframe tbody tr th:only-of-type {\n",
       "        vertical-align: middle;\n",
       "    }\n",
       "\n",
       "    .dataframe tbody tr th {\n",
       "        vertical-align: top;\n",
       "    }\n",
       "\n",
       "    .dataframe thead th {\n",
       "        text-align: right;\n",
       "    }\n",
       "</style>\n",
       "<table border=\"1\" class=\"dataframe\">\n",
       "  <thead>\n",
       "    <tr style=\"text-align: right;\">\n",
       "      <th></th>\n",
       "      <th>나이</th>\n",
       "      <th>성별</th>\n",
       "      <th>성적</th>\n",
       "    </tr>\n",
       "  </thead>\n",
       "  <tbody>\n",
       "    <tr>\n",
       "      <th>0</th>\n",
       "      <td>20</td>\n",
       "      <td>1</td>\n",
       "      <td>20</td>\n",
       "    </tr>\n",
       "    <tr>\n",
       "      <th>1</th>\n",
       "      <td>22</td>\n",
       "      <td>0</td>\n",
       "      <td>100</td>\n",
       "    </tr>\n",
       "    <tr>\n",
       "      <th>2</th>\n",
       "      <td>24</td>\n",
       "      <td>1</td>\n",
       "      <td>70</td>\n",
       "    </tr>\n",
       "    <tr>\n",
       "      <th>3</th>\n",
       "      <td>26</td>\n",
       "      <td>0</td>\n",
       "      <td>10</td>\n",
       "    </tr>\n",
       "    <tr>\n",
       "      <th>4</th>\n",
       "      <td>28</td>\n",
       "      <td>1</td>\n",
       "      <td>20</td>\n",
       "    </tr>\n",
       "    <tr>\n",
       "      <th>5</th>\n",
       "      <td>30</td>\n",
       "      <td>0</td>\n",
       "      <td>30</td>\n",
       "    </tr>\n",
       "  </tbody>\n",
       "</table>\n",
       "</div>"
      ],
      "text/plain": [
       "   나이  성별   성적\n",
       "0  20   1   20\n",
       "1  22   0  100\n",
       "2  24   1   70\n",
       "3  26   0   10\n",
       "4  28   1   20\n",
       "5  30   0   30"
      ]
     },
     "metadata": {},
     "output_type": "display_data"
    }
   ],
   "source": [
    "나이 = [ 20, 22, 24, 26, 28, 30]\n",
    "성별 = [ 1, 0, 1, 0, 1, 0]\n",
    "성적 = [ 20, 100, 70, 10, 20, 30]\n",
    "\n",
    "import pandas as pd\n",
    "df = pd.DataFrame({'나이': 나이, '성별': 성별, '성적': 성적})\n",
    "x = df[['나이', '성별']].values\n",
    "y = df[['성적']].values\n",
    "display(df)\n"
   ]
  },
  {
   "cell_type": "code",
   "execution_count": 54,
   "metadata": {},
   "outputs": [
    {
     "data": {
      "text/plain": [
       "array([[25],\n",
       "       [22],\n",
       "       [29],\n",
       "       [26],\n",
       "       [33],\n",
       "       [30]], dtype=int64)"
      ]
     },
     "execution_count": 54,
     "metadata": {},
     "output_type": "execute_result"
    }
   ],
   "source": [
    "# 덴스 하나\n",
    "\n",
    "w = [[1],   # 나이값의 웨이트\n",
    "     [5]]   # 성별의 웨이트\n",
    "w2 = [[1,5]]\n",
    "np.shape(w), np.shape(w2)\n",
    "\n",
    "np.dot(x,w)\n",
    "'''\n",
    "    20*1 + 1*5 = 25\n",
    "    22*1 + 0*5 = 22\n",
    "    .\n",
    "    .\n",
    "    .\n",
    "'''\n"
   ]
  },
  {
   "cell_type": "code",
   "execution_count": null,
   "metadata": {},
   "outputs": [],
   "source": [
    "# 덴스 셋\n",
    "\n",
    "w = [[1,2,3],   # 나이값의 웨이트\n",
    "     [5,3,8]]   # 성별의 웨이트\n",
    "b = [0,1,2]\n",
    "\n"
   ]
  }
 ],
 "metadata": {
  "kernelspec": {
   "display_name": "gpu",
   "language": "python",
   "name": "python3"
  },
  "language_info": {
   "codemirror_mode": {
    "name": "ipython",
    "version": 3
   },
   "file_extension": ".py",
   "mimetype": "text/x-python",
   "name": "python",
   "nbconvert_exporter": "python",
   "pygments_lexer": "ipython3",
   "version": "3.9.16"
  },
  "orig_nbformat": 4
 },
 "nbformat": 4,
 "nbformat_minor": 2
}
