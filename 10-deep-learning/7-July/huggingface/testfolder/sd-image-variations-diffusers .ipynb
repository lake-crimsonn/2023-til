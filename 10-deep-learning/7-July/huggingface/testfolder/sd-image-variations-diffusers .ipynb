{
 "cells": [
  {
   "cell_type": "code",
   "execution_count": 5,
   "metadata": {},
   "outputs": [
    {
     "ename": "NameError",
     "evalue": "name 'garbage_collection_threshold' is not defined",
     "output_type": "error",
     "traceback": [
      "\u001b[1;31m---------------------------------------------------------------------------\u001b[0m",
      "\u001b[1;31mNameError\u001b[0m                                 Traceback (most recent call last)",
      "Cell \u001b[1;32mIn[5], line 8\u001b[0m\n\u001b[0;32m      2\u001b[0m \u001b[39mfrom\u001b[39;00m \u001b[39mPIL\u001b[39;00m \u001b[39mimport\u001b[39;00m Image\n\u001b[0;32m      4\u001b[0m device \u001b[39m=\u001b[39m \u001b[39m\"\u001b[39m\u001b[39mcuda:0\u001b[39m\u001b[39m\"\u001b[39m\n\u001b[0;32m      5\u001b[0m sd_pipe \u001b[39m=\u001b[39m StableDiffusionImageVariationPipeline\u001b[39m.\u001b[39mfrom_pretrained(\n\u001b[0;32m      6\u001b[0m   \u001b[39m\"\u001b[39m\u001b[39mlambdalabs/sd-image-variations-diffusers\u001b[39m\u001b[39m\"\u001b[39m,\n\u001b[0;32m      7\u001b[0m   revision\u001b[39m=\u001b[39m\u001b[39m\"\u001b[39m\u001b[39mv2.0\u001b[39m\u001b[39m\"\u001b[39m,\n\u001b[1;32m----> 8\u001b[0m   PYTORCH_CUDA_ALLOC_CONF\u001b[39m=\u001b[39m{garbage_collection_threshold:\u001b[39m0.6\u001b[39m,max_split_size_mb:\u001b[39m128\u001b[39m}\n\u001b[0;32m      9\u001b[0m   )\n\u001b[0;32m     10\u001b[0m sd_pipe \u001b[39m=\u001b[39m sd_pipe\u001b[39m.\u001b[39mto(device)\n\u001b[0;32m     12\u001b[0m im \u001b[39m=\u001b[39m Image\u001b[39m.\u001b[39mopen(\u001b[39m\"\u001b[39m\u001b[39mpath/to/image.jpg\u001b[39m\u001b[39m\"\u001b[39m)\n",
      "\u001b[1;31mNameError\u001b[0m: name 'garbage_collection_threshold' is not defined"
     ]
    }
   ],
   "source": [
    "from diffusers import StableDiffusionImageVariationPipeline\n",
    "from PIL import Image\n",
    "\n",
    "device = \"cuda:0\"\n",
    "sd_pipe = StableDiffusionImageVariationPipeline.from_pretrained(\n",
    "  \"lambdalabs/sd-image-variations-diffusers\",\n",
    "  revision=\"v2.0\",\n",
    "  )\n",
    "sd_pipe = sd_pipe.to(device)\n",
    "\n",
    "im = Image.open(\"path/to/image.jpg\")\n",
    "tform = transforms.Compose([\n",
    "    transforms.ToTensor(),\n",
    "    transforms.Resize(\n",
    "        (224, 224),\n",
    "        interpolation=transforms.InterpolationMode.BICUBIC,\n",
    "        antialias=False,\n",
    "        ),\n",
    "    transforms.Normalize(\n",
    "      [0.48145466, 0.4578275, 0.40821073],\n",
    "      [0.26862954, 0.26130258, 0.27577711]),\n",
    "])\n",
    "inp = tform(im).to(device).unsqueeze(0)\n",
    "\n",
    "out = sd_pipe(inp, guidance_scale=3)\n",
    "out[\"images\"][0].save(\"result.jpg\")\n"
   ]
  },
  {
   "cell_type": "code",
   "execution_count": 3,
   "metadata": {},
   "outputs": [
    {
     "data": {
      "text/plain": [
       "5688189952"
      ]
     },
     "execution_count": 3,
     "metadata": {},
     "output_type": "execute_result"
    }
   ],
   "source": [
    "import torch\n",
    "torch.cuda.memory_allocated()"
   ]
  },
  {
   "cell_type": "code",
   "execution_count": 2,
   "metadata": {},
   "outputs": [
    {
     "name": "stdout",
     "output_type": "stream",
     "text": [
      "Collecting numba\n",
      "  Using cached numba-0.57.1-cp39-cp39-win_amd64.whl (2.5 MB)\n",
      "Collecting llvmlite<0.41,>=0.40.0dev0 (from numba)\n",
      "  Using cached llvmlite-0.40.1-cp39-cp39-win_amd64.whl (27.7 MB)\n",
      "Requirement already satisfied: numpy<1.25,>=1.21 in c:\\users\\user\\miniconda3\\envs\\gpu2\\lib\\site-packages (from numba) (1.24.4)\n",
      "Installing collected packages: llvmlite, numba\n",
      "Successfully installed llvmlite-0.40.1 numba-0.57.1\n"
     ]
    }
   ],
   "source": [
    "!pip install numba"
   ]
  },
  {
   "cell_type": "code",
   "execution_count": 8,
   "metadata": {},
   "outputs": [],
   "source": [
    "from numba import cuda\n",
    "\n",
    "device = cuda.get_current_device(); device.reset()"
   ]
  },
  {
   "cell_type": "code",
   "execution_count": 9,
   "metadata": {},
   "outputs": [],
   "source": [
    "import torch\n",
    "torch.cuda.memory_stats()\n",
    "torch.cuda.empty_cache()"
   ]
  }
 ],
 "metadata": {
  "kernelspec": {
   "display_name": "gpu2",
   "language": "python",
   "name": "python3"
  },
  "language_info": {
   "codemirror_mode": {
    "name": "ipython",
    "version": 3
   },
   "file_extension": ".py",
   "mimetype": "text/x-python",
   "name": "python",
   "nbconvert_exporter": "python",
   "pygments_lexer": "ipython3",
   "version": "3.9.17"
  },
  "orig_nbformat": 4
 },
 "nbformat": 4,
 "nbformat_minor": 2
}
