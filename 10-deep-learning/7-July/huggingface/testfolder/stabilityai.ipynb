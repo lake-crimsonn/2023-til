{
 "cells": [
  {
   "cell_type": "code",
   "execution_count": 1,
   "metadata": {},
   "outputs": [
    {
     "name": "stdout",
     "output_type": "stream",
     "text": [
      "Requirement already satisfied: diffusers in c:\\users\\user\\miniconda3\\envs\\gpu2\\lib\\site-packages (0.18.2)\n",
      "Requirement already satisfied: Pillow in c:\\users\\user\\miniconda3\\envs\\gpu2\\lib\\site-packages (from diffusers) (9.3.0)\n",
      "Requirement already satisfied: filelock in c:\\users\\user\\miniconda3\\envs\\gpu2\\lib\\site-packages (from diffusers) (3.12.2)\n",
      "Requirement already satisfied: huggingface-hub>=0.13.2 in c:\\users\\user\\miniconda3\\envs\\gpu2\\lib\\site-packages (from diffusers) (0.16.4)\n",
      "Requirement already satisfied: importlib-metadata in c:\\users\\user\\miniconda3\\envs\\gpu2\\lib\\site-packages (from diffusers) (6.8.0)\n",
      "Requirement already satisfied: numpy in c:\\users\\user\\miniconda3\\envs\\gpu2\\lib\\site-packages (from diffusers) (1.25.1)\n",
      "Requirement already satisfied: regex!=2019.12.17 in c:\\users\\user\\miniconda3\\envs\\gpu2\\lib\\site-packages (from diffusers) (2023.6.3)\n",
      "Requirement already satisfied: requests in c:\\users\\user\\miniconda3\\envs\\gpu2\\lib\\site-packages (from diffusers) (2.31.0)\n",
      "Requirement already satisfied: fsspec in c:\\users\\user\\miniconda3\\envs\\gpu2\\lib\\site-packages (from huggingface-hub>=0.13.2->diffusers) (2023.6.0)\n",
      "Requirement already satisfied: tqdm>=4.42.1 in c:\\users\\user\\miniconda3\\envs\\gpu2\\lib\\site-packages (from huggingface-hub>=0.13.2->diffusers) (4.65.0)\n",
      "Requirement already satisfied: pyyaml>=5.1 in c:\\users\\user\\miniconda3\\envs\\gpu2\\lib\\site-packages (from huggingface-hub>=0.13.2->diffusers) (6.0)\n",
      "Requirement already satisfied: typing-extensions>=3.7.4.3 in c:\\users\\user\\miniconda3\\envs\\gpu2\\lib\\site-packages (from huggingface-hub>=0.13.2->diffusers) (4.7.1)\n",
      "Requirement already satisfied: packaging>=20.9 in c:\\users\\user\\miniconda3\\envs\\gpu2\\lib\\site-packages (from huggingface-hub>=0.13.2->diffusers) (23.1)\n",
      "Requirement already satisfied: zipp>=0.5 in c:\\users\\user\\miniconda3\\envs\\gpu2\\lib\\site-packages (from importlib-metadata->diffusers) (3.16.0)\n",
      "Requirement already satisfied: charset-normalizer<4,>=2 in c:\\users\\user\\miniconda3\\envs\\gpu2\\lib\\site-packages (from requests->diffusers) (3.2.0)\n",
      "Requirement already satisfied: idna<4,>=2.5 in c:\\users\\user\\miniconda3\\envs\\gpu2\\lib\\site-packages (from requests->diffusers) (3.4)\n",
      "Requirement already satisfied: urllib3<3,>=1.21.1 in c:\\users\\user\\miniconda3\\envs\\gpu2\\lib\\site-packages (from requests->diffusers) (1.26.16)\n",
      "Requirement already satisfied: certifi>=2017.4.17 in c:\\users\\user\\miniconda3\\envs\\gpu2\\lib\\site-packages (from requests->diffusers) (2023.5.7)\n",
      "Requirement already satisfied: colorama in c:\\users\\user\\miniconda3\\envs\\gpu2\\lib\\site-packages (from tqdm>=4.42.1->huggingface-hub>=0.13.2->diffusers) (0.4.6)\n",
      "Requirement already satisfied: transformers in c:\\users\\user\\miniconda3\\envs\\gpu2\\lib\\site-packages (4.30.2)\n",
      "Requirement already satisfied: accelerate in c:\\users\\user\\miniconda3\\envs\\gpu2\\lib\\site-packages (0.21.0)\n",
      "Requirement already satisfied: safetensors in c:\\users\\user\\miniconda3\\envs\\gpu2\\lib\\site-packages (0.3.1)\n",
      "Requirement already satisfied: invisible_watermark in c:\\users\\user\\miniconda3\\envs\\gpu2\\lib\\site-packages (0.2.0)\n",
      "Requirement already satisfied: filelock in c:\\users\\user\\miniconda3\\envs\\gpu2\\lib\\site-packages (from transformers) (3.12.2)\n",
      "Requirement already satisfied: huggingface-hub<1.0,>=0.14.1 in c:\\users\\user\\miniconda3\\envs\\gpu2\\lib\\site-packages (from transformers) (0.16.4)\n",
      "Requirement already satisfied: numpy>=1.17 in c:\\users\\user\\miniconda3\\envs\\gpu2\\lib\\site-packages (from transformers) (1.25.1)\n",
      "Requirement already satisfied: packaging>=20.0 in c:\\users\\user\\miniconda3\\envs\\gpu2\\lib\\site-packages (from transformers) (23.1)\n",
      "Requirement already satisfied: pyyaml>=5.1 in c:\\users\\user\\miniconda3\\envs\\gpu2\\lib\\site-packages (from transformers) (6.0)\n",
      "Requirement already satisfied: regex!=2019.12.17 in c:\\users\\user\\miniconda3\\envs\\gpu2\\lib\\site-packages (from transformers) (2023.6.3)\n",
      "Requirement already satisfied: requests in c:\\users\\user\\miniconda3\\envs\\gpu2\\lib\\site-packages (from transformers) (2.31.0)\n",
      "Requirement already satisfied: tokenizers!=0.11.3,<0.14,>=0.11.1 in c:\\users\\user\\miniconda3\\envs\\gpu2\\lib\\site-packages (from transformers) (0.13.3)\n",
      "Requirement already satisfied: tqdm>=4.27 in c:\\users\\user\\miniconda3\\envs\\gpu2\\lib\\site-packages (from transformers) (4.65.0)\n",
      "Requirement already satisfied: psutil in c:\\users\\user\\miniconda3\\envs\\gpu2\\lib\\site-packages (from accelerate) (5.9.0)\n",
      "Requirement already satisfied: torch>=1.10.0 in c:\\users\\user\\miniconda3\\envs\\gpu2\\lib\\site-packages (from accelerate) (2.0.1+cu118)\n",
      "Requirement already satisfied: Pillow>=6.0.0 in c:\\users\\user\\miniconda3\\envs\\gpu2\\lib\\site-packages (from invisible_watermark) (9.3.0)\n",
      "Requirement already satisfied: PyWavelets>=1.1.1 in c:\\users\\user\\miniconda3\\envs\\gpu2\\lib\\site-packages (from invisible_watermark) (1.4.1)\n",
      "Requirement already satisfied: opencv-python>=4.1.0.25 in c:\\users\\user\\miniconda3\\envs\\gpu2\\lib\\site-packages (from invisible_watermark) (4.8.0.74)\n",
      "Requirement already satisfied: fsspec in c:\\users\\user\\miniconda3\\envs\\gpu2\\lib\\site-packages (from huggingface-hub<1.0,>=0.14.1->transformers) (2023.6.0)\n",
      "Requirement already satisfied: typing-extensions>=3.7.4.3 in c:\\users\\user\\miniconda3\\envs\\gpu2\\lib\\site-packages (from huggingface-hub<1.0,>=0.14.1->transformers) (4.7.1)\n",
      "Requirement already satisfied: sympy in c:\\users\\user\\miniconda3\\envs\\gpu2\\lib\\site-packages (from torch>=1.10.0->accelerate) (1.11.1)\n",
      "Requirement already satisfied: networkx in c:\\users\\user\\miniconda3\\envs\\gpu2\\lib\\site-packages (from torch>=1.10.0->accelerate) (3.0)\n",
      "Requirement already satisfied: jinja2 in c:\\users\\user\\miniconda3\\envs\\gpu2\\lib\\site-packages (from torch>=1.10.0->accelerate) (3.1.2)\n",
      "Requirement already satisfied: colorama in c:\\users\\user\\miniconda3\\envs\\gpu2\\lib\\site-packages (from tqdm>=4.27->transformers) (0.4.6)\n",
      "Requirement already satisfied: charset-normalizer<4,>=2 in c:\\users\\user\\miniconda3\\envs\\gpu2\\lib\\site-packages (from requests->transformers) (3.2.0)\n",
      "Requirement already satisfied: idna<4,>=2.5 in c:\\users\\user\\miniconda3\\envs\\gpu2\\lib\\site-packages (from requests->transformers) (3.4)\n",
      "Requirement already satisfied: urllib3<3,>=1.21.1 in c:\\users\\user\\miniconda3\\envs\\gpu2\\lib\\site-packages (from requests->transformers) (1.26.16)\n",
      "Requirement already satisfied: certifi>=2017.4.17 in c:\\users\\user\\miniconda3\\envs\\gpu2\\lib\\site-packages (from requests->transformers) (2023.5.7)\n",
      "Requirement already satisfied: MarkupSafe>=2.0 in c:\\users\\user\\miniconda3\\envs\\gpu2\\lib\\site-packages (from jinja2->torch>=1.10.0->accelerate) (2.1.3)\n",
      "Requirement already satisfied: mpmath>=0.19 in c:\\users\\user\\miniconda3\\envs\\gpu2\\lib\\site-packages (from sympy->torch>=1.10.0->accelerate) (1.2.1)\n"
     ]
    }
   ],
   "source": [
    "!pip install diffusers --upgrade\n",
    "!pip install transformers accelerate safetensors invisible_watermark"
   ]
  },
  {
   "cell_type": "markdown",
   "metadata": {},
   "source": [
    "`cannot identify image file <_io.BytesIO object at 0x000001EB6ACC0C70>`\n",
    "- https://camel-programming-stock.tistory.com/4"
   ]
  },
  {
   "cell_type": "code",
   "execution_count": 2,
   "metadata": {},
   "outputs": [
    {
     "data": {
      "text/plain": [
       "b'{\"error\":\"module \\'diffusers\\' has no attribute \\'StableDiffusionXLPipeline\\'\"}'"
      ]
     },
     "execution_count": 2,
     "metadata": {},
     "output_type": "execute_result"
    }
   ],
   "source": [
    "import requests\n",
    "\n",
    "API_URL = \"https://api-inference.huggingface.co/models/stabilityai/stable-diffusion-xl-base-0.9\"\n",
    "headers = {\"Authorization\": \"#\"}\n",
    "\n",
    "def query(payload):\n",
    "\tresponse = requests.post(API_URL, headers=headers, json=payload)\n",
    "\treturn response.content\n",
    "image_bytes = query({\n",
    "\t\"inputs\": \"Astronaut riding a horse\",\n",
    "})\n",
    "# You can access the image with PIL.Image for example\n",
    "import io\n",
    "# from PIL import Image\n",
    "# image = Image.open(io.BytesIO(image_bytes))\n",
    "# io.BytesIO(image_bytes)\n",
    "image_bytes"
   ]
  },
  {
   "cell_type": "code",
   "execution_count": 7,
   "metadata": {},
   "outputs": [
    {
     "name": "stderr",
     "output_type": "stream",
     "text": [
      "Couldn't connect to the Hub: 403 Client Error. (Request ID: Root=1-64b4be3e-1e4297c4336a85be288deedc;5e339e30-2b14-4324-ac37-54f948865870)\n",
      "\n",
      "Cannot access gated repo for url https://huggingface.co/api/models/stabilityai/stable-diffusion-xl-base-0.9.\n",
      "Access to model stabilityai/stable-diffusion-xl-base-0.9 is restricted and you are not in the authorized list. Visit https://huggingface.co/stabilityai/stable-diffusion-xl-base-0.9 to ask for access..\n",
      "Will try to load from local cache.\n"
     ]
    },
    {
     "ename": "FileNotFoundError",
     "evalue": "[Errno 2] No such file or directory: 'C:\\\\Users\\\\user\\\\.cache\\\\huggingface\\\\hub\\\\models--stabilityai--stable-diffusion-xl-base-0.9\\\\refs\\\\main'",
     "output_type": "error",
     "traceback": [
      "\u001b[1;31m---------------------------------------------------------------------------\u001b[0m",
      "\u001b[1;31mFileNotFoundError\u001b[0m                         Traceback (most recent call last)",
      "Cell \u001b[1;32mIn[7], line 4\u001b[0m\n\u001b[0;32m      1\u001b[0m \u001b[39mfrom\u001b[39;00m \u001b[39mdiffusers\u001b[39;00m \u001b[39mimport\u001b[39;00m DiffusionPipeline\n\u001b[0;32m      2\u001b[0m \u001b[39mimport\u001b[39;00m \u001b[39mtorch\u001b[39;00m\n\u001b[1;32m----> 4\u001b[0m pipe \u001b[39m=\u001b[39m DiffusionPipeline\u001b[39m.\u001b[39;49mfrom_pretrained(\u001b[39m\"\u001b[39;49m\u001b[39mstabilityai/stable-diffusion-xl-base-0.9\u001b[39;49m\u001b[39m\"\u001b[39;49m, torch_dtype\u001b[39m=\u001b[39;49mtorch\u001b[39m.\u001b[39;49mfloat16, use_safetensors\u001b[39m=\u001b[39;49m\u001b[39mTrue\u001b[39;49;00m, variant\u001b[39m=\u001b[39;49m\u001b[39m\"\u001b[39;49m\u001b[39mfp16\u001b[39;49m\u001b[39m\"\u001b[39;49m)\n\u001b[0;32m      5\u001b[0m pipe\u001b[39m.\u001b[39mto(\u001b[39m\"\u001b[39m\u001b[39mcuda\u001b[39m\u001b[39m\"\u001b[39m)\n\u001b[0;32m      7\u001b[0m \u001b[39m# if using torch < 2.0\u001b[39;00m\n\u001b[0;32m      8\u001b[0m \u001b[39m# pipe.enable_xformers_memory_efficient_attention()\u001b[39;00m\n",
      "File \u001b[1;32mc:\\Users\\user\\miniconda3\\envs\\gpu2\\lib\\site-packages\\diffusers\\pipelines\\pipeline_utils.py:882\u001b[0m, in \u001b[0;36mDiffusionPipeline.from_pretrained\u001b[1;34m(cls, pretrained_model_name_or_path, **kwargs)\u001b[0m\n\u001b[0;32m    879\u001b[0m \u001b[39m# 1. Download the checkpoints and configs\u001b[39;00m\n\u001b[0;32m    880\u001b[0m \u001b[39m# use snapshot download here to get it working from from_pretrained\u001b[39;00m\n\u001b[0;32m    881\u001b[0m \u001b[39mif\u001b[39;00m \u001b[39mnot\u001b[39;00m os\u001b[39m.\u001b[39mpath\u001b[39m.\u001b[39misdir(pretrained_model_name_or_path):\n\u001b[1;32m--> 882\u001b[0m     cached_folder \u001b[39m=\u001b[39m \u001b[39mcls\u001b[39m\u001b[39m.\u001b[39mdownload(\n\u001b[0;32m    883\u001b[0m         pretrained_model_name_or_path,\n\u001b[0;32m    884\u001b[0m         cache_dir\u001b[39m=\u001b[39mcache_dir,\n\u001b[0;32m    885\u001b[0m         resume_download\u001b[39m=\u001b[39mresume_download,\n\u001b[0;32m    886\u001b[0m         force_download\u001b[39m=\u001b[39mforce_download,\n\u001b[0;32m    887\u001b[0m         proxies\u001b[39m=\u001b[39mproxies,\n\u001b[0;32m    888\u001b[0m         local_files_only\u001b[39m=\u001b[39mlocal_files_only,\n\u001b[0;32m    889\u001b[0m         use_auth_token\u001b[39m=\u001b[39muse_auth_token,\n\u001b[0;32m    890\u001b[0m         revision\u001b[39m=\u001b[39mrevision,\n\u001b[0;32m    891\u001b[0m         from_flax\u001b[39m=\u001b[39mfrom_flax,\n\u001b[0;32m    892\u001b[0m         use_safetensors\u001b[39m=\u001b[39muse_safetensors,\n\u001b[0;32m    893\u001b[0m         custom_pipeline\u001b[39m=\u001b[39mcustom_pipeline,\n\u001b[0;32m    894\u001b[0m         custom_revision\u001b[39m=\u001b[39mcustom_revision,\n\u001b[0;32m    895\u001b[0m         variant\u001b[39m=\u001b[39mvariant,\n\u001b[0;32m    896\u001b[0m         \u001b[39m*\u001b[39m\u001b[39m*\u001b[39mkwargs,\n\u001b[0;32m    897\u001b[0m     )\n\u001b[0;32m    898\u001b[0m \u001b[39melse\u001b[39;00m:\n\u001b[0;32m    899\u001b[0m     cached_folder \u001b[39m=\u001b[39m pretrained_model_name_or_path\n",
      "File \u001b[1;32mc:\\Users\\user\\miniconda3\\envs\\gpu2\\lib\\site-packages\\diffusers\\pipelines\\pipeline_utils.py:1324\u001b[0m, in \u001b[0;36mDiffusionPipeline.download\u001b[1;34m(cls, pretrained_model_name, **kwargs)\u001b[0m\n\u001b[0;32m   1321\u001b[0m     user_agent[\u001b[39m\"\u001b[39m\u001b[39mcustom_pipeline\u001b[39m\u001b[39m\"\u001b[39m] \u001b[39m=\u001b[39m custom_pipeline\n\u001b[0;32m   1323\u001b[0m \u001b[39m# download all allow_patterns - ignore_patterns\u001b[39;00m\n\u001b[1;32m-> 1324\u001b[0m cached_folder \u001b[39m=\u001b[39m snapshot_download(\n\u001b[0;32m   1325\u001b[0m     pretrained_model_name,\n\u001b[0;32m   1326\u001b[0m     cache_dir\u001b[39m=\u001b[39;49mcache_dir,\n\u001b[0;32m   1327\u001b[0m     resume_download\u001b[39m=\u001b[39;49mresume_download,\n\u001b[0;32m   1328\u001b[0m     proxies\u001b[39m=\u001b[39;49mproxies,\n\u001b[0;32m   1329\u001b[0m     local_files_only\u001b[39m=\u001b[39;49mlocal_files_only,\n\u001b[0;32m   1330\u001b[0m     use_auth_token\u001b[39m=\u001b[39;49muse_auth_token,\n\u001b[0;32m   1331\u001b[0m     revision\u001b[39m=\u001b[39;49mrevision,\n\u001b[0;32m   1332\u001b[0m     allow_patterns\u001b[39m=\u001b[39;49mallow_patterns,\n\u001b[0;32m   1333\u001b[0m     ignore_patterns\u001b[39m=\u001b[39;49mignore_patterns,\n\u001b[0;32m   1334\u001b[0m     user_agent\u001b[39m=\u001b[39;49muser_agent,\n\u001b[0;32m   1335\u001b[0m )\n\u001b[0;32m   1337\u001b[0m \u001b[39mreturn\u001b[39;00m cached_folder\n",
      "File \u001b[1;32mc:\\Users\\user\\miniconda3\\envs\\gpu2\\lib\\site-packages\\huggingface_hub\\utils\\_validators.py:118\u001b[0m, in \u001b[0;36mvalidate_hf_hub_args.<locals>._inner_fn\u001b[1;34m(*args, **kwargs)\u001b[0m\n\u001b[0;32m    115\u001b[0m \u001b[39mif\u001b[39;00m check_use_auth_token:\n\u001b[0;32m    116\u001b[0m     kwargs \u001b[39m=\u001b[39m smoothly_deprecate_use_auth_token(fn_name\u001b[39m=\u001b[39mfn\u001b[39m.\u001b[39m\u001b[39m__name__\u001b[39m, has_token\u001b[39m=\u001b[39mhas_token, kwargs\u001b[39m=\u001b[39mkwargs)\n\u001b[1;32m--> 118\u001b[0m \u001b[39mreturn\u001b[39;00m fn(\u001b[39m*\u001b[39margs, \u001b[39m*\u001b[39m\u001b[39m*\u001b[39mkwargs)\n",
      "File \u001b[1;32mc:\\Users\\user\\miniconda3\\envs\\gpu2\\lib\\site-packages\\huggingface_hub\\_snapshot_download.py:169\u001b[0m, in \u001b[0;36msnapshot_download\u001b[1;34m(repo_id, revision, repo_type, cache_dir, local_dir, local_dir_use_symlinks, library_name, library_version, user_agent, proxies, etag_timeout, resume_download, force_download, token, local_files_only, allow_patterns, ignore_patterns, max_workers, tqdm_class)\u001b[0m\n\u001b[0;32m    166\u001b[0m \u001b[39melse\u001b[39;00m:\n\u001b[0;32m    167\u001b[0m     \u001b[39m# retrieve commit_hash from file\u001b[39;00m\n\u001b[0;32m    168\u001b[0m     ref_path \u001b[39m=\u001b[39m os\u001b[39m.\u001b[39mpath\u001b[39m.\u001b[39mjoin(storage_folder, \u001b[39m\"\u001b[39m\u001b[39mrefs\u001b[39m\u001b[39m\"\u001b[39m, revision)\n\u001b[1;32m--> 169\u001b[0m     \u001b[39mwith\u001b[39;00m \u001b[39mopen\u001b[39;49m(ref_path) \u001b[39mas\u001b[39;00m f:\n\u001b[0;32m    170\u001b[0m         commit_hash \u001b[39m=\u001b[39m f\u001b[39m.\u001b[39mread()\n\u001b[0;32m    172\u001b[0m snapshot_folder \u001b[39m=\u001b[39m os\u001b[39m.\u001b[39mpath\u001b[39m.\u001b[39mjoin(storage_folder, \u001b[39m\"\u001b[39m\u001b[39msnapshots\u001b[39m\u001b[39m\"\u001b[39m, commit_hash)\n",
      "\u001b[1;31mFileNotFoundError\u001b[0m: [Errno 2] No such file or directory: 'C:\\\\Users\\\\user\\\\.cache\\\\huggingface\\\\hub\\\\models--stabilityai--stable-diffusion-xl-base-0.9\\\\refs\\\\main'"
     ]
    }
   ],
   "source": [
    "from diffusers import DiffusionPipeline\n",
    "import torch\n",
    "\n",
    "pipe = DiffusionPipeline.from_pretrained(\"stabilityai/stable-diffusion-xl-base-0.9\", torch_dtype=torch.float16, use_safetensors=True, variant=\"fp16\")\n",
    "pipe.to(\"cuda\")\n",
    "\n",
    "# if using torch < 2.0\n",
    "# pipe.enable_xformers_memory_efficient_attention()\n",
    "\n",
    "prompt = \"An astronaut riding a green horse\"\n",
    "\n",
    "image = pipe(prompt=prompt, output_type=\"latent\").images\n",
    "\n",
    "# pipe = DiffusionPipeline.from_pretrained(\"stabilityai/stable-diffusion-xl-refiner-0.9\", torch_dtype=torch.float16, use_safetensors=True, variant=\"fp16\")\n",
    "# pipe.to(\"cuda\")\n",
    "\n",
    "# # if using torch < 2.0\n",
    "# # pipe.enable_xformers_memory_efficient_attention()\n",
    "\n",
    "# images = pipe(prompt=prompt, image=image).images\n"
   ]
  },
  {
   "cell_type": "code",
   "execution_count": null,
   "metadata": {},
   "outputs": [],
   "source": [
    "pipe.unet = torch.compile(pipe.unet, mode=\"reduce-overhead\", fullgraph=True)\n"
   ]
  }
 ],
 "metadata": {
  "kernelspec": {
   "display_name": "gpu2",
   "language": "python",
   "name": "python3"
  },
  "language_info": {
   "codemirror_mode": {
    "name": "ipython",
    "version": 3
   },
   "file_extension": ".py",
   "mimetype": "text/x-python",
   "name": "python",
   "nbconvert_exporter": "python",
   "pygments_lexer": "ipython3",
   "version": "3.9.17"
  },
  "orig_nbformat": 4
 },
 "nbformat": 4,
 "nbformat_minor": 2
}
