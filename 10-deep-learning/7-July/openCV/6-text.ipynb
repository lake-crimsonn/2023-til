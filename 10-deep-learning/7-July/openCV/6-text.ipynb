{
 "cells": [
  {
   "cell_type": "code",
   "execution_count": 1,
   "metadata": {},
   "outputs": [
    {
     "name": "stdout",
     "output_type": "stream",
     "text": [
      "Requirement already satisfied: pytesseract in c:\\users\\user\\miniconda3\\envs\\gpu\\lib\\site-packages (0.3.10)\n",
      "Requirement already satisfied: packaging>=21.3 in c:\\users\\user\\miniconda3\\envs\\gpu\\lib\\site-packages (from pytesseract) (23.1)\n",
      "Requirement already satisfied: Pillow>=8.0.0 in c:\\users\\user\\miniconda3\\envs\\gpu\\lib\\site-packages (from pytesseract) (9.5.0)\n",
      "Note: you may need to restart the kernel to use updated packages.\n"
     ]
    }
   ],
   "source": [
    "# %pip install pytesseract"
   ]
  },
  {
   "cell_type": "code",
   "execution_count": 2,
   "metadata": {},
   "outputs": [],
   "source": [
    "# import dependency files\n",
    "import cv2\n",
    "import numpy as np\n",
    "import pytesseract\n",
    "\n",
    "# 파일 주소\n",
    "URL = 'C:/data/tesseract/'\n",
    "\n",
    "# 이미지 업로드\n",
    "img = cv2.imread(URL+'receipt.jpeg')"
   ]
  },
  {
   "cell_type": "code",
   "execution_count": 17,
   "metadata": {},
   "outputs": [],
   "source": [
    "\n",
    "# 마우스를 이용하여 이미지에서 원하는 부분을 ROI로 지정한다\n",
    "x,y,w,h = cv2.selectROI('img',img,False)\n",
    "\n",
    "if w and h:\n",
    "    roi = img[y:y+h, x:x+w]\n",
    "    cv2.imshow('cropped', roi)\n",
    "    cv2.imwrite(URL+'cropped.jpg',roi)\n",
    "    \n",
    "ocr = pytesseract.image_to_string(URL+'cropped.jpg', config='-l kor+eng')\n",
    "print(ocr)\n",
    "    \n",
    "cv2.waitKey(0)\n",
    "cv2.destroyAllWindows()"
   ]
  },
  {
   "cell_type": "code",
   "execution_count": 6,
   "metadata": {},
   "outputs": [
    {
     "ename": "KeyboardInterrupt",
     "evalue": "",
     "output_type": "error",
     "traceback": [
      "\u001b[1;31m---------------------------------------------------------------------------\u001b[0m",
      "\u001b[1;31mKeyboardInterrupt\u001b[0m                         Traceback (most recent call last)",
      "Cell \u001b[1;32mIn[6], line 33\u001b[0m\n\u001b[0;32m     30\u001b[0m \u001b[39mif\u001b[39;00m i \u001b[39m==\u001b[39m j:\n\u001b[0;32m     31\u001b[0m     \u001b[39mcontinue\u001b[39;00m\n\u001b[1;32m---> 33\u001b[0m x, y, w, h \u001b[39m=\u001b[39m cv2\u001b[39m.\u001b[39;49mboundingRect(c2)\n\u001b[0;32m     34\u001b[0m r2_start \u001b[39m=\u001b[39m (x, y)\n\u001b[0;32m     35\u001b[0m r2_end \u001b[39m=\u001b[39m (x\u001b[39m+\u001b[39mw, y\u001b[39m+\u001b[39mh)\n",
      "\u001b[1;31mKeyboardInterrupt\u001b[0m: "
     ]
    }
   ],
   "source": [
    "import cv2\n",
    "import os\n",
    "import numpy as np\n",
    "\n",
    "\n",
    "path = URL+'receipt.jpeg'\n",
    "\n",
    "img = cv2.imread(path)\n",
    "\n",
    "gray = cv2.cvtColor(img, cv2.COLOR_BGR2GRAY)\n",
    "gray = cv2.GaussianBlur(gray,(5, 5),0)\n",
    "\n",
    "mser = cv2.MSER_create()\n",
    "regions,_ = mser.detectRegions(gray)\n",
    "\n",
    "clone = img.copy()\n",
    "\n",
    "\n",
    "hulls = [cv2.convexHull(p.reshape(-1, 1, 2)) for p in regions]\n",
    "\n",
    "remove1 = []\n",
    "for i,c1 in enumerate(hulls):\n",
    "\n",
    "    x, y, w, h = cv2.boundingRect(c1)\n",
    "    r1_start = (x, y)\n",
    "    r1_end = (x+w, y+h)\n",
    "\n",
    "    for j,c2 in enumerate(hulls):\n",
    "        \n",
    "        if i == j:\n",
    "            continue\n",
    "        \n",
    "        x, y, w, h = cv2.boundingRect(c2)\n",
    "        r2_start = (x, y)\n",
    "        r2_end = (x+w, y+h)\n",
    "\n",
    "        if r1_start[0]> r2_start[0] and r1_start[1] > r2_start[1] and r1_end[0] < r2_end[0] and r1_end[1] < r2_end[1]:\n",
    "            remove1.append(i)\n",
    "\n",
    "\n",
    "for j,cnt in enumerate(hulls):\n",
    "    if j in remove1: continue\n",
    "    x, y, w, h = cv2.boundingRect(cnt)\n",
    "    margin = 10\n",
    "    cv2.rectangle(clone, (x-margin, y-margin), (x + w + margin, y + h + margin), (0, 255, 0), 1)\n",
    "\n",
    "cv2.imshow('mser', clone)\n",
    "cv2.waitKey(0)\n",
    "\n",
    "\n",
    "mask = np.zeros((img.shape[0], img.shape[1], 1), dtype=np.uint8)\n",
    "\n",
    "for j,cnt in enumerate(hulls):\n",
    "    if j in remove1: continue\n",
    "    x, y, w, h = cv2.boundingRect(cnt)\n",
    "    margin = 10\n",
    "    cv2.rectangle(mask, (x-margin, y-margin), (x + w + margin, y + h + margin), (255, 255, 255), -1)\n",
    "\n",
    "text_only = cv2.bitwise_and(img, img, mask=mask)\n",
    "\n",
    "cv2.imshow(\"text only\", text_only)\n",
    "cv2.waitKey(0) \n",
    "cv2.destroyAllWindows()"
   ]
  },
  {
   "cell_type": "code",
   "execution_count": 7,
   "metadata": {},
   "outputs": [],
   "source": [
    "import cv2\n",
    "import os\n",
    "import numpy as np\n",
    "\n",
    "\n",
    "path = URL+'receipt.jpeg'\n",
    "\n",
    "img = cv2.imread(path)\n",
    "gray = cv2.cvtColor(img, cv2.COLOR_BGR2GRAY)\n",
    "gray = cv2.GaussianBlur(gray,(5, 5),0)\n",
    "mser = cv2.MSER_create()\n",
    "regions,_ = mser.detectRegions(gray)\n",
    "clone = img.copy()\n",
    "\n",
    "for i in regions:\n",
    "    # i = i.reshape(-1,1,2)\n",
    "    hull = cv2.convexHull(i) # 윤곽선, 방향\n",
    "    # cv2.rectangle(img,[hull],0,(0,0,255),2)\n",
    "    x, y, w, h = cv2.boundingRect(hull)\n",
    "    cv2.rectangle(img,(x,y),(x+w,y+h),(0,0,255),1)\n",
    "    \n",
    "    \n",
    "\n",
    "cv2.imshow(\"img\", img)\n",
    "cv2.waitKey(0)\n",
    "cv2.destroyAllWindows()\n"
   ]
  },
  {
   "cell_type": "code",
   "execution_count": 5,
   "metadata": {},
   "outputs": [
    {
     "name": "stdout",
     "output_type": "stream",
     "text": [
      "toda\n",
      "\n",
      "가맹점명/주소가 실저와 다른경우\n",
      "714-413 Ae dare ate 지급)\n",
      "\n",
      "|8정보통신 여신금융협회02-2011-0777)\n",
      "은 | 처| Sat =] Sel\n",
      "110:11638133- [0645]                    [회원용\n",
      "[신용승인]                   할부:[일시불]\n",
      "\n",
      "5159-54 **%—*«**<— BBBG\n",
      "거래일시 20/10/14 16:26:08\n",
      "\n",
      "금액:                40,909 2]\n",
      "부가세:                 4.091원\n",
      "ef il:            A5 . (00000 =]\n",
      "\n",
      "승인번호(비씨카드)      #6983822 [PC]\n",
      "가맹점/사업자          154382137/120-81-83814\n",
      "ua ee 00108090        동원안전시스템(주)\n",
      "서물시 강북구 도봉로 188 지하1층( 미아동 )\n",
      "알 & ED Wea\n",
      "\n",
      "VANKEY :0288014591692161\n",
      "G/00892 1-0645-S068                     [0012]\n",
      "\n"
     ]
    }
   ],
   "source": [
    "ocr = pytesseract.image_to_string(URL+'receipt.jpeg', config='-l kor+eng')\n",
    "print(ocr)"
   ]
  }
 ],
 "metadata": {
  "kernelspec": {
   "display_name": "gpu",
   "language": "python",
   "name": "python3"
  },
  "language_info": {
   "codemirror_mode": {
    "name": "ipython",
    "version": 3
   },
   "file_extension": ".py",
   "mimetype": "text/x-python",
   "name": "python",
   "nbconvert_exporter": "python",
   "pygments_lexer": "ipython3",
   "version": "3.9.16"
  },
  "orig_nbformat": 4
 },
 "nbformat": 4,
 "nbformat_minor": 2
}
