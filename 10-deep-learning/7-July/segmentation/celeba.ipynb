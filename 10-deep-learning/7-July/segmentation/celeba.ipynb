{
 "cells": [
  {
   "cell_type": "code",
   "execution_count": 55,
   "metadata": {},
   "outputs": [
    {
     "data": {
      "text/plain": [
       "[0, 1, 2, 3, 4, 5, 6, 7, 8, 9, 10, 11, 12, 13, 14]"
      ]
     },
     "execution_count": 55,
     "metadata": {},
     "output_type": "execute_result"
    }
   ],
   "source": [
    "import os\n",
    " \n",
    "original_dataset_dir = 'C:\\data\\celebaMask\\CelebAMask-HQ'\n",
    "img_folder_list = os.listdir(original_dataset_dir+'/CelebA-HQ-img')\n",
    "folder_list = os.listdir(original_dataset_dir)\n",
    "anno_folder_list = os.listdir(os.path.join(original_dataset_dir,'CelebAMask-HQ-mask-anno'))\n",
    "\n",
    "# find_list = ['hair.png','skin.png','neck.png','ear.png']\n",
    "# file_arr = []\n",
    "# len(img_folder_list)\n",
    "\n",
    "# for e in anno_folder_list_0:\n",
    "#     if e.split('_')[-1] in find_list:\n",
    "#         file_arr.append(e)\n",
    "# file_arr\n",
    "\n",
    "num_arr = anno_folder_list.copy()\n",
    "for idx, e in enumerate(anno_folder_list):\n",
    "    num_arr[idx] = int(e)\n",
    "num_arr.sort()\n",
    "num_arr\n",
    "# base_dir = 'c:/data/plant-leaf//splitted' \n",
    "# os.mkdir(base_dir)\n",
    " \n",
    "# train_dir = os.path.join(base_dir, 'train') \n",
    "# os.mkdir(train_dir)\n",
    "# validation_dir = os.path.join(base_dir, 'val')\n",
    "# os.mkdir(validation_dir)\n",
    "# test_dir = os.path.join(base_dir, 'test')\n",
    "# os.mkdir(test_dir)\n",
    "\n",
    "# for cls in classes_list:     \n",
    "#     os.mkdir(os.path.join(train_dir, cls))\n",
    "#     os.mkdir(os.path.join(validation_dir, cls))\n",
    "#     os.mkdir(os.path.join(test_dir, cls))"
   ]
  }
 ],
 "metadata": {
  "kernelspec": {
   "display_name": "gpu2",
   "language": "python",
   "name": "python3"
  },
  "language_info": {
   "codemirror_mode": {
    "name": "ipython",
    "version": 3
   },
   "file_extension": ".py",
   "mimetype": "text/x-python",
   "name": "python",
   "nbconvert_exporter": "python",
   "pygments_lexer": "ipython3",
   "version": "3.9.17"
  },
  "orig_nbformat": 4
 },
 "nbformat": 4,
 "nbformat_minor": 2
}
